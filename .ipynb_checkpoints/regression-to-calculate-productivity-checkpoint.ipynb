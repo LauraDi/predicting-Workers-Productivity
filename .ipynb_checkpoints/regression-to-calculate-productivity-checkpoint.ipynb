{
 "cells": [
  {
   "cell_type": "markdown",
   "id": "97350bda",
   "metadata": {},
   "source": [
    "# Workers productivity"
   ]
  },
  {
   "cell_type": "markdown",
   "id": "eedc2d37",
   "metadata": {},
   "source": [
    "Contenido:\n",
    "- Analisis de datos de la productividad de trabajadores.\n",
    "- Modelo predictivo de la productividad de los trabajadores."
   ]
  },
  {
   "cell_type": "markdown",
   "id": "7dddae38",
   "metadata": {},
   "source": [
    "## **NOTA** : eliminar datos que sobresalen algunas metricas, como mas de 1, etc\n",
    "\n",
    "Queremos predecir o queremos clasficar si es buena o mala la real vs la objetivo"
   ]
  },
  {
   "cell_type": "markdown",
   "id": "a69b3670",
   "metadata": {},
   "source": [
    "Importamos librerias necesarias"
   ]
  },
  {
   "cell_type": "code",
   "execution_count": 1,
   "id": "f157c92c",
   "metadata": {
    "_cell_guid": "b1076dfc-b9ad-4769-8c92-a6c4dae69d19",
    "_uuid": "8f2839f25d086af736a60e9eeb907d3b93b6e0e5",
    "execution": {
     "iopub.execute_input": "2021-05-08T09:19:38.931027Z",
     "iopub.status.busy": "2021-05-08T09:19:38.930157Z",
     "iopub.status.idle": "2021-05-08T09:19:38.950835Z",
     "shell.execute_reply": "2021-05-08T09:19:38.951359Z"
    },
    "papermill": {
     "duration": 0.04307,
     "end_time": "2021-05-08T09:19:38.951715",
     "exception": false,
     "start_time": "2021-05-08T09:19:38.908645",
     "status": "completed"
    },
    "tags": []
   },
   "outputs": [],
   "source": [
    "import numpy as np\n",
    "import pandas as pd\n",
    "import warnings\n",
    "warnings.filterwarnings('ignore')\n",
    "import matplotlib.pyplot as plt\n",
    "import seaborn as sns\n",
    "sns.set_style(\"darkgrid\")\n",
    "from sklearn.metrics import accuracy_score,r2_score, mean_squared_error, mean_absolute_error, mean_squared_log_error"
   ]
  },
  {
   "cell_type": "markdown",
   "id": "7fede36d",
   "metadata": {},
   "source": [
    "Leemos nuestros datos"
   ]
  },
  {
   "cell_type": "code",
   "execution_count": 2,
   "id": "d57eadb0",
   "metadata": {
    "execution": {
     "iopub.execute_input": "2021-05-08T09:19:40.963349Z",
     "iopub.status.busy": "2021-05-08T09:19:40.962738Z",
     "iopub.status.idle": "2021-05-08T09:19:40.989713Z",
     "shell.execute_reply": "2021-05-08T09:19:40.989296Z"
    },
    "papermill": {
     "duration": 0.051023,
     "end_time": "2021-05-08T09:19:40.989841",
     "exception": false,
     "start_time": "2021-05-08T09:19:40.938818",
     "status": "completed"
    },
    "tags": []
   },
   "outputs": [],
   "source": [
    "df = pd.read_csv('garments_worker_productivity.csv')"
   ]
  },
  {
   "cell_type": "markdown",
   "id": "32afa1f5",
   "metadata": {
    "papermill": {
     "duration": 0.017999,
     "end_time": "2021-05-08T09:19:40.919728",
     "exception": false,
     "start_time": "2021-05-08T09:19:40.901729",
     "status": "completed"
    },
    "tags": []
   },
   "source": [
    "Atributos del dataset:\n",
    "1. **date**: Fecha en MM-DD-AAAA\n",
    "3. **quarter**: Una parte del mes. Un mes se divide en cuatro trimestres\n",
    "4. **department**: Departamento asociado\n",
    "2. **day**: Día de la semana\n",
    "5. **team**: Número de equipo asociado a la instancia\n",
    "8. **targeted_productivity**: Objetivo de productividad fijado por la autoridad para cada equipo para cada día\n",
    "9. **smv**: Valor estándar del minuto, es el tiempo asignado a una tarea \n",
    "10. **wip**: Trabajos en curso. Incluye el número de artículos sin terminar para los productos \n",
    "11. **over_time**: Representa la cantidad de tiempo extra de cada equipo en minutos\n",
    "12. **incentive**: Representa el importe del incentivo financiero (en BDT) que permite o motiva una determinada acción\n",
    "13. **idle_time**: La cantidad de tiempo en que la producción se interrumpió debido a varias razones \n",
    "14. **idle_men**: El número de trabajadores que estuvieron inactivos debido a la interrupción de la producción\n",
    "7. **no_of_style_change**: Número de cambios en el estilo de un determinado producto\n",
    "6. **no_of_workers**: Número de trabajadores en cada equipo\n",
    "15. **actual_productivity**: Es el porcentaje real de productividad que han aportado los trabajadores. Va de 0 a 1."
   ]
  },
  {
   "cell_type": "code",
   "execution_count": 3,
   "id": "5eb33cb5",
   "metadata": {},
   "outputs": [
    {
     "data": {
      "text/plain": [
       "37"
      ]
     },
     "execution_count": 3,
     "metadata": {},
     "output_type": "execute_result"
    }
   ],
   "source": [
    "column = df['actual_productivity']\n",
    "count = column[column > 1].count()\n",
    "count"
   ]
  },
  {
   "cell_type": "code",
   "execution_count": 4,
   "id": "5096fd3d",
   "metadata": {},
   "outputs": [
    {
     "data": {
      "text/html": [
       "<div>\n",
       "<style scoped>\n",
       "    .dataframe tbody tr th:only-of-type {\n",
       "        vertical-align: middle;\n",
       "    }\n",
       "\n",
       "    .dataframe tbody tr th {\n",
       "        vertical-align: top;\n",
       "    }\n",
       "\n",
       "    .dataframe thead th {\n",
       "        text-align: right;\n",
       "    }\n",
       "</style>\n",
       "<table border=\"1\" class=\"dataframe\">\n",
       "  <thead>\n",
       "    <tr style=\"text-align: right;\">\n",
       "      <th></th>\n",
       "      <th>date</th>\n",
       "      <th>quarter</th>\n",
       "      <th>department</th>\n",
       "      <th>day</th>\n",
       "      <th>team</th>\n",
       "      <th>targeted_productivity</th>\n",
       "      <th>smv</th>\n",
       "      <th>wip</th>\n",
       "      <th>over_time</th>\n",
       "      <th>incentive</th>\n",
       "      <th>idle_time</th>\n",
       "      <th>idle_men</th>\n",
       "      <th>no_of_style_change</th>\n",
       "      <th>no_of_workers</th>\n",
       "      <th>actual_productivity</th>\n",
       "    </tr>\n",
       "  </thead>\n",
       "  <tbody>\n",
       "    <tr>\n",
       "      <th>0</th>\n",
       "      <td>01/01/15</td>\n",
       "      <td>Quarter1</td>\n",
       "      <td>sweing</td>\n",
       "      <td>Thursday</td>\n",
       "      <td>8</td>\n",
       "      <td>0.80</td>\n",
       "      <td>26.16</td>\n",
       "      <td>1108.0</td>\n",
       "      <td>7080</td>\n",
       "      <td>98</td>\n",
       "      <td>0.0</td>\n",
       "      <td>0</td>\n",
       "      <td>0</td>\n",
       "      <td>59.0</td>\n",
       "      <td>0.940725</td>\n",
       "    </tr>\n",
       "    <tr>\n",
       "      <th>1</th>\n",
       "      <td>01/01/15</td>\n",
       "      <td>Quarter1</td>\n",
       "      <td>finishing</td>\n",
       "      <td>Thursday</td>\n",
       "      <td>1</td>\n",
       "      <td>0.75</td>\n",
       "      <td>3.94</td>\n",
       "      <td>NaN</td>\n",
       "      <td>960</td>\n",
       "      <td>0</td>\n",
       "      <td>0.0</td>\n",
       "      <td>0</td>\n",
       "      <td>0</td>\n",
       "      <td>8.0</td>\n",
       "      <td>0.886500</td>\n",
       "    </tr>\n",
       "    <tr>\n",
       "      <th>2</th>\n",
       "      <td>01/01/15</td>\n",
       "      <td>Quarter1</td>\n",
       "      <td>sweing</td>\n",
       "      <td>Thursday</td>\n",
       "      <td>11</td>\n",
       "      <td>0.80</td>\n",
       "      <td>11.41</td>\n",
       "      <td>968.0</td>\n",
       "      <td>3660</td>\n",
       "      <td>50</td>\n",
       "      <td>0.0</td>\n",
       "      <td>0</td>\n",
       "      <td>0</td>\n",
       "      <td>30.5</td>\n",
       "      <td>0.800570</td>\n",
       "    </tr>\n",
       "    <tr>\n",
       "      <th>3</th>\n",
       "      <td>01/01/15</td>\n",
       "      <td>Quarter1</td>\n",
       "      <td>sweing</td>\n",
       "      <td>Thursday</td>\n",
       "      <td>12</td>\n",
       "      <td>0.80</td>\n",
       "      <td>11.41</td>\n",
       "      <td>968.0</td>\n",
       "      <td>3660</td>\n",
       "      <td>50</td>\n",
       "      <td>0.0</td>\n",
       "      <td>0</td>\n",
       "      <td>0</td>\n",
       "      <td>30.5</td>\n",
       "      <td>0.800570</td>\n",
       "    </tr>\n",
       "    <tr>\n",
       "      <th>4</th>\n",
       "      <td>01/01/15</td>\n",
       "      <td>Quarter1</td>\n",
       "      <td>sweing</td>\n",
       "      <td>Thursday</td>\n",
       "      <td>6</td>\n",
       "      <td>0.80</td>\n",
       "      <td>25.90</td>\n",
       "      <td>1170.0</td>\n",
       "      <td>1920</td>\n",
       "      <td>50</td>\n",
       "      <td>0.0</td>\n",
       "      <td>0</td>\n",
       "      <td>0</td>\n",
       "      <td>56.0</td>\n",
       "      <td>0.800382</td>\n",
       "    </tr>\n",
       "    <tr>\n",
       "      <th>...</th>\n",
       "      <td>...</td>\n",
       "      <td>...</td>\n",
       "      <td>...</td>\n",
       "      <td>...</td>\n",
       "      <td>...</td>\n",
       "      <td>...</td>\n",
       "      <td>...</td>\n",
       "      <td>...</td>\n",
       "      <td>...</td>\n",
       "      <td>...</td>\n",
       "      <td>...</td>\n",
       "      <td>...</td>\n",
       "      <td>...</td>\n",
       "      <td>...</td>\n",
       "      <td>...</td>\n",
       "    </tr>\n",
       "    <tr>\n",
       "      <th>1192</th>\n",
       "      <td>03/11/15</td>\n",
       "      <td>Quarter2</td>\n",
       "      <td>finishing</td>\n",
       "      <td>Wednesday</td>\n",
       "      <td>10</td>\n",
       "      <td>0.75</td>\n",
       "      <td>2.90</td>\n",
       "      <td>NaN</td>\n",
       "      <td>960</td>\n",
       "      <td>0</td>\n",
       "      <td>0.0</td>\n",
       "      <td>0</td>\n",
       "      <td>0</td>\n",
       "      <td>8.0</td>\n",
       "      <td>0.628333</td>\n",
       "    </tr>\n",
       "    <tr>\n",
       "      <th>1193</th>\n",
       "      <td>03/11/15</td>\n",
       "      <td>Quarter2</td>\n",
       "      <td>finishing</td>\n",
       "      <td>Wednesday</td>\n",
       "      <td>8</td>\n",
       "      <td>0.70</td>\n",
       "      <td>3.90</td>\n",
       "      <td>NaN</td>\n",
       "      <td>960</td>\n",
       "      <td>0</td>\n",
       "      <td>0.0</td>\n",
       "      <td>0</td>\n",
       "      <td>0</td>\n",
       "      <td>8.0</td>\n",
       "      <td>0.625625</td>\n",
       "    </tr>\n",
       "    <tr>\n",
       "      <th>1194</th>\n",
       "      <td>03/11/15</td>\n",
       "      <td>Quarter2</td>\n",
       "      <td>finishing</td>\n",
       "      <td>Wednesday</td>\n",
       "      <td>7</td>\n",
       "      <td>0.65</td>\n",
       "      <td>3.90</td>\n",
       "      <td>NaN</td>\n",
       "      <td>960</td>\n",
       "      <td>0</td>\n",
       "      <td>0.0</td>\n",
       "      <td>0</td>\n",
       "      <td>0</td>\n",
       "      <td>8.0</td>\n",
       "      <td>0.625625</td>\n",
       "    </tr>\n",
       "    <tr>\n",
       "      <th>1195</th>\n",
       "      <td>03/11/15</td>\n",
       "      <td>Quarter2</td>\n",
       "      <td>finishing</td>\n",
       "      <td>Wednesday</td>\n",
       "      <td>9</td>\n",
       "      <td>0.75</td>\n",
       "      <td>2.90</td>\n",
       "      <td>NaN</td>\n",
       "      <td>1800</td>\n",
       "      <td>0</td>\n",
       "      <td>0.0</td>\n",
       "      <td>0</td>\n",
       "      <td>0</td>\n",
       "      <td>15.0</td>\n",
       "      <td>0.505889</td>\n",
       "    </tr>\n",
       "    <tr>\n",
       "      <th>1196</th>\n",
       "      <td>03/11/15</td>\n",
       "      <td>Quarter2</td>\n",
       "      <td>finishing</td>\n",
       "      <td>Wednesday</td>\n",
       "      <td>6</td>\n",
       "      <td>0.70</td>\n",
       "      <td>2.90</td>\n",
       "      <td>NaN</td>\n",
       "      <td>720</td>\n",
       "      <td>0</td>\n",
       "      <td>0.0</td>\n",
       "      <td>0</td>\n",
       "      <td>0</td>\n",
       "      <td>6.0</td>\n",
       "      <td>0.394722</td>\n",
       "    </tr>\n",
       "  </tbody>\n",
       "</table>\n",
       "<p>1160 rows × 15 columns</p>\n",
       "</div>"
      ],
      "text/plain": [
       "          date   quarter  department        day  team  targeted_productivity  \\\n",
       "0     01/01/15  Quarter1      sweing   Thursday     8                   0.80   \n",
       "1     01/01/15  Quarter1  finishing    Thursday     1                   0.75   \n",
       "2     01/01/15  Quarter1      sweing   Thursday    11                   0.80   \n",
       "3     01/01/15  Quarter1      sweing   Thursday    12                   0.80   \n",
       "4     01/01/15  Quarter1      sweing   Thursday     6                   0.80   \n",
       "...        ...       ...         ...        ...   ...                    ...   \n",
       "1192  03/11/15  Quarter2   finishing  Wednesday    10                   0.75   \n",
       "1193  03/11/15  Quarter2   finishing  Wednesday     8                   0.70   \n",
       "1194  03/11/15  Quarter2   finishing  Wednesday     7                   0.65   \n",
       "1195  03/11/15  Quarter2   finishing  Wednesday     9                   0.75   \n",
       "1196  03/11/15  Quarter2   finishing  Wednesday     6                   0.70   \n",
       "\n",
       "        smv     wip  over_time  incentive  idle_time  idle_men  \\\n",
       "0     26.16  1108.0       7080         98        0.0         0   \n",
       "1      3.94     NaN        960          0        0.0         0   \n",
       "2     11.41   968.0       3660         50        0.0         0   \n",
       "3     11.41   968.0       3660         50        0.0         0   \n",
       "4     25.90  1170.0       1920         50        0.0         0   \n",
       "...     ...     ...        ...        ...        ...       ...   \n",
       "1192   2.90     NaN        960          0        0.0         0   \n",
       "1193   3.90     NaN        960          0        0.0         0   \n",
       "1194   3.90     NaN        960          0        0.0         0   \n",
       "1195   2.90     NaN       1800          0        0.0         0   \n",
       "1196   2.90     NaN        720          0        0.0         0   \n",
       "\n",
       "      no_of_style_change  no_of_workers  actual_productivity  \n",
       "0                      0           59.0             0.940725  \n",
       "1                      0            8.0             0.886500  \n",
       "2                      0           30.5             0.800570  \n",
       "3                      0           30.5             0.800570  \n",
       "4                      0           56.0             0.800382  \n",
       "...                  ...            ...                  ...  \n",
       "1192                   0            8.0             0.628333  \n",
       "1193                   0            8.0             0.625625  \n",
       "1194                   0            8.0             0.625625  \n",
       "1195                   0           15.0             0.505889  \n",
       "1196                   0            6.0             0.394722  \n",
       "\n",
       "[1160 rows x 15 columns]"
      ]
     },
     "execution_count": 4,
     "metadata": {},
     "output_type": "execute_result"
    }
   ],
   "source": [
    "df = df.drop(df[df['actual_productivity'] > 1].index)\n",
    "df"
   ]
  },
  {
   "cell_type": "code",
   "execution_count": null,
   "id": "82fc95c2",
   "metadata": {},
   "outputs": [],
   "source": []
  },
  {
   "cell_type": "code",
   "execution_count": null,
   "id": "532705f4",
   "metadata": {},
   "outputs": [],
   "source": []
  },
  {
   "cell_type": "code",
   "execution_count": null,
   "id": "6422509a",
   "metadata": {},
   "outputs": [],
   "source": []
  },
  {
   "cell_type": "markdown",
   "id": "1bfc3d33",
   "metadata": {},
   "source": [
    "Veamos los tipos de departamentos"
   ]
  },
  {
   "cell_type": "code",
   "execution_count": 5,
   "id": "b85ac149",
   "metadata": {},
   "outputs": [
    {
     "data": {
      "text/plain": [
       "sweing        666\n",
       "finishing     253\n",
       "finishing     241\n",
       "Name: department, dtype: int64"
      ]
     },
     "execution_count": 5,
     "metadata": {},
     "output_type": "execute_result"
    }
   ],
   "source": [
    "df['department'].value_counts()"
   ]
  },
  {
   "cell_type": "markdown",
   "id": "f83f8efa",
   "metadata": {},
   "source": [
    "Aquí podemos ver que un espacio divide en dos categorías diferentes a \"finishing\". Ahora vamos a fusionarlas."
   ]
  },
  {
   "cell_type": "code",
   "execution_count": 6,
   "id": "366a998a",
   "metadata": {},
   "outputs": [],
   "source": [
    "df['department'] = df['department'].apply(lambda x: 'finishing' if x.replace(\" \",\"\") == 'finishing' else 'sewing' )"
   ]
  },
  {
   "cell_type": "markdown",
   "id": "a502d7c5",
   "metadata": {},
   "source": [
    "Podemos ver que ahora ya tenemos los departamentos correctos"
   ]
  },
  {
   "cell_type": "code",
   "execution_count": 7,
   "id": "67136bdf",
   "metadata": {},
   "outputs": [
    {
     "data": {
      "text/plain": [
       "<AxesSubplot:ylabel='department'>"
      ]
     },
     "execution_count": 7,
     "metadata": {},
     "output_type": "execute_result"
    },
    {
     "data": {
      "image/png": "[encoded data removed]",
      "text/plain": [
       "<Figure size 432x288 with 1 Axes>"
      ]
     },
     "metadata": {},
     "output_type": "display_data"
    }
   ],
   "source": [
    "df.department.value_counts().plot.pie(autopct='%.2f %%')"
   ]
  },
  {
   "cell_type": "markdown",
   "id": "9e05cdaa",
   "metadata": {},
   "source": [
    "### Conociendo mas el dataset"
   ]
  },
  {
   "cell_type": "code",
   "execution_count": 8,
   "id": "83ae387f",
   "metadata": {
    "execution": {
     "iopub.execute_input": "2021-05-08T09:19:41.206121Z",
     "iopub.status.busy": "2021-05-08T09:19:41.205422Z",
     "iopub.status.idle": "2021-05-08T09:19:41.211079Z",
     "shell.execute_reply": "2021-05-08T09:19:41.210517Z"
    },
    "papermill": {
     "duration": 0.049059,
     "end_time": "2021-05-08T09:19:41.211203",
     "exception": false,
     "start_time": "2021-05-08T09:19:41.162144",
     "status": "completed"
    },
    "tags": []
   },
   "outputs": [
    {
     "name": "stdout",
     "output_type": "stream",
     "text": [
      "<class 'pandas.core.frame.DataFrame'>\n",
      "Int64Index: 1160 entries, 0 to 1196\n",
      "Data columns (total 15 columns):\n",
      " #   Column                 Non-Null Count  Dtype  \n",
      "---  ------                 --------------  -----  \n",
      " 0   date                   1160 non-null   object \n",
      " 1   quarter                1160 non-null   object \n",
      " 2   department             1160 non-null   object \n",
      " 3   day                    1160 non-null   object \n",
      " 4   team                   1160 non-null   int64  \n",
      " 5   targeted_productivity  1160 non-null   float64\n",
      " 6   smv                    1160 non-null   float64\n",
      " 7   wip                    666 non-null    float64\n",
      " 8   over_time              1160 non-null   int64  \n",
      " 9   incentive              1160 non-null   int64  \n",
      " 10  idle_time              1160 non-null   float64\n",
      " 11  idle_men               1160 non-null   int64  \n",
      " 12  no_of_style_change     1160 non-null   int64  \n",
      " 13  no_of_workers          1160 non-null   float64\n",
      " 14  actual_productivity    1160 non-null   float64\n",
      "dtypes: float64(6), int64(5), object(4)\n",
      "memory usage: 145.0+ KB\n"
     ]
    }
   ],
   "source": [
    "df.info()"
   ]
  },
  {
   "cell_type": "code",
   "execution_count": 9,
   "id": "cf0a2cb9",
   "metadata": {
    "execution": {
     "iopub.execute_input": "2021-05-08T09:19:41.258103Z",
     "iopub.status.busy": "2021-05-08T09:19:41.257460Z",
     "iopub.status.idle": "2021-05-08T09:19:41.261474Z",
     "shell.execute_reply": "2021-05-08T09:19:41.260868Z"
    },
    "papermill": {
     "duration": 0.030589,
     "end_time": "2021-05-08T09:19:41.261601",
     "exception": false,
     "start_time": "2021-05-08T09:19:41.231012",
     "status": "completed"
    },
    "tags": []
   },
   "outputs": [
    {
     "data": {
      "text/plain": [
       "date                       0\n",
       "quarter                    0\n",
       "department                 0\n",
       "day                        0\n",
       "team                       0\n",
       "targeted_productivity      0\n",
       "smv                        0\n",
       "wip                      494\n",
       "over_time                  0\n",
       "incentive                  0\n",
       "idle_time                  0\n",
       "idle_men                   0\n",
       "no_of_style_change         0\n",
       "no_of_workers              0\n",
       "actual_productivity        0\n",
       "dtype: int64"
      ]
     },
     "execution_count": 9,
     "metadata": {},
     "output_type": "execute_result"
    }
   ],
   "source": [
    "df.isnull().sum()"
   ]
  },
  {
   "cell_type": "markdown",
   "id": "53f655c7",
   "metadata": {},
   "source": [
    "Podemos ver que hay 506 nulos en la columna de \"wip\""
   ]
  },
  {
   "cell_type": "code",
   "execution_count": 10,
   "id": "3e61d537",
   "metadata": {
    "execution": {
     "iopub.execute_input": "2021-05-08T09:19:41.407550Z",
     "iopub.status.busy": "2021-05-08T09:19:41.407045Z",
     "iopub.status.idle": "2021-05-08T09:19:41.451014Z",
     "shell.execute_reply": "2021-05-08T09:19:41.451422Z"
    },
    "papermill": {
     "duration": 0.073712,
     "end_time": "2021-05-08T09:19:41.451577",
     "exception": false,
     "start_time": "2021-05-08T09:19:41.377865",
     "status": "completed"
    },
    "tags": []
   },
   "outputs": [
    {
     "data": {
      "text/html": [
       "<div>\n",
       "<style scoped>\n",
       "    .dataframe tbody tr th:only-of-type {\n",
       "        vertical-align: middle;\n",
       "    }\n",
       "\n",
       "    .dataframe tbody tr th {\n",
       "        vertical-align: top;\n",
       "    }\n",
       "\n",
       "    .dataframe thead th {\n",
       "        text-align: right;\n",
       "    }\n",
       "</style>\n",
       "<table border=\"1\" class=\"dataframe\">\n",
       "  <thead>\n",
       "    <tr style=\"text-align: right;\">\n",
       "      <th></th>\n",
       "      <th>count</th>\n",
       "      <th>mean</th>\n",
       "      <th>std</th>\n",
       "      <th>min</th>\n",
       "      <th>25%</th>\n",
       "      <th>50%</th>\n",
       "      <th>75%</th>\n",
       "      <th>max</th>\n",
       "    </tr>\n",
       "  </thead>\n",
       "  <tbody>\n",
       "    <tr>\n",
       "      <th>team</th>\n",
       "      <td>1160.0</td>\n",
       "      <td>6.544828</td>\n",
       "      <td>3.422968</td>\n",
       "      <td>1.000000</td>\n",
       "      <td>4.000000</td>\n",
       "      <td>7.000000</td>\n",
       "      <td>9.000000</td>\n",
       "      <td>12.000000</td>\n",
       "    </tr>\n",
       "    <tr>\n",
       "      <th>targeted_productivity</th>\n",
       "      <td>1160.0</td>\n",
       "      <td>0.727905</td>\n",
       "      <td>0.098735</td>\n",
       "      <td>0.070000</td>\n",
       "      <td>0.700000</td>\n",
       "      <td>0.750000</td>\n",
       "      <td>0.800000</td>\n",
       "      <td>0.800000</td>\n",
       "    </tr>\n",
       "    <tr>\n",
       "      <th>smv</th>\n",
       "      <td>1160.0</td>\n",
       "      <td>15.014810</td>\n",
       "      <td>11.004750</td>\n",
       "      <td>2.900000</td>\n",
       "      <td>3.940000</td>\n",
       "      <td>15.260000</td>\n",
       "      <td>24.260000</td>\n",
       "      <td>54.560000</td>\n",
       "    </tr>\n",
       "    <tr>\n",
       "      <th>wip</th>\n",
       "      <td>666.0</td>\n",
       "      <td>1159.974474</td>\n",
       "      <td>1769.132478</td>\n",
       "      <td>7.000000</td>\n",
       "      <td>762.000000</td>\n",
       "      <td>1028.500000</td>\n",
       "      <td>1226.750000</td>\n",
       "      <td>23122.000000</td>\n",
       "    </tr>\n",
       "    <tr>\n",
       "      <th>over_time</th>\n",
       "      <td>1160.0</td>\n",
       "      <td>4575.301724</td>\n",
       "      <td>3363.475857</td>\n",
       "      <td>0.000000</td>\n",
       "      <td>1440.000000</td>\n",
       "      <td>3960.000000</td>\n",
       "      <td>6960.000000</td>\n",
       "      <td>25920.000000</td>\n",
       "    </tr>\n",
       "    <tr>\n",
       "      <th>incentive</th>\n",
       "      <td>1160.0</td>\n",
       "      <td>37.012931</td>\n",
       "      <td>162.300882</td>\n",
       "      <td>0.000000</td>\n",
       "      <td>0.000000</td>\n",
       "      <td>0.000000</td>\n",
       "      <td>50.000000</td>\n",
       "      <td>3600.000000</td>\n",
       "    </tr>\n",
       "    <tr>\n",
       "      <th>idle_time</th>\n",
       "      <td>1160.0</td>\n",
       "      <td>0.753448</td>\n",
       "      <td>12.910356</td>\n",
       "      <td>0.000000</td>\n",
       "      <td>0.000000</td>\n",
       "      <td>0.000000</td>\n",
       "      <td>0.000000</td>\n",
       "      <td>300.000000</td>\n",
       "    </tr>\n",
       "    <tr>\n",
       "      <th>idle_men</th>\n",
       "      <td>1160.0</td>\n",
       "      <td>0.381034</td>\n",
       "      <td>3.320081</td>\n",
       "      <td>0.000000</td>\n",
       "      <td>0.000000</td>\n",
       "      <td>0.000000</td>\n",
       "      <td>0.000000</td>\n",
       "      <td>45.000000</td>\n",
       "    </tr>\n",
       "    <tr>\n",
       "      <th>no_of_style_change</th>\n",
       "      <td>1160.0</td>\n",
       "      <td>0.155172</td>\n",
       "      <td>0.433766</td>\n",
       "      <td>0.000000</td>\n",
       "      <td>0.000000</td>\n",
       "      <td>0.000000</td>\n",
       "      <td>0.000000</td>\n",
       "      <td>2.000000</td>\n",
       "    </tr>\n",
       "    <tr>\n",
       "      <th>no_of_workers</th>\n",
       "      <td>1160.0</td>\n",
       "      <td>34.346552</td>\n",
       "      <td>22.181174</td>\n",
       "      <td>2.000000</td>\n",
       "      <td>9.000000</td>\n",
       "      <td>34.000000</td>\n",
       "      <td>57.000000</td>\n",
       "      <td>89.000000</td>\n",
       "    </tr>\n",
       "    <tr>\n",
       "      <th>actual_productivity</th>\n",
       "      <td>1160.0</td>\n",
       "      <td>0.725991</td>\n",
       "      <td>0.169404</td>\n",
       "      <td>0.233705</td>\n",
       "      <td>0.650061</td>\n",
       "      <td>0.754425</td>\n",
       "      <td>0.845167</td>\n",
       "      <td>0.999995</td>\n",
       "    </tr>\n",
       "  </tbody>\n",
       "</table>\n",
       "</div>"
      ],
      "text/plain": [
       "                        count         mean          std       min  \\\n",
       "team                   1160.0     6.544828     3.422968  1.000000   \n",
       "targeted_productivity  1160.0     0.727905     0.098735  0.070000   \n",
       "smv                    1160.0    15.014810    11.004750  2.900000   \n",
       "wip                     666.0  1159.974474  1769.132478  7.000000   \n",
       "over_time              1160.0  4575.301724  3363.475857  0.000000   \n",
       "incentive              1160.0    37.012931   162.300882  0.000000   \n",
       "idle_time              1160.0     0.753448    12.910356  0.000000   \n",
       "idle_men               1160.0     0.381034     3.320081  0.000000   \n",
       "no_of_style_change     1160.0     0.155172     0.433766  0.000000   \n",
       "no_of_workers          1160.0    34.346552    22.181174  2.000000   \n",
       "actual_productivity    1160.0     0.725991     0.169404  0.233705   \n",
       "\n",
       "                               25%          50%          75%           max  \n",
       "team                      4.000000     7.000000     9.000000     12.000000  \n",
       "targeted_productivity     0.700000     0.750000     0.800000      0.800000  \n",
       "smv                       3.940000    15.260000    24.260000     54.560000  \n",
       "wip                     762.000000  1028.500000  1226.750000  23122.000000  \n",
       "over_time              1440.000000  3960.000000  6960.000000  25920.000000  \n",
       "incentive                 0.000000     0.000000    50.000000   3600.000000  \n",
       "idle_time                 0.000000     0.000000     0.000000    300.000000  \n",
       "idle_men                  0.000000     0.000000     0.000000     45.000000  \n",
       "no_of_style_change        0.000000     0.000000     0.000000      2.000000  \n",
       "no_of_workers             9.000000    34.000000    57.000000     89.000000  \n",
       "actual_productivity       0.650061     0.754425     0.845167      0.999995  "
      ]
     },
     "execution_count": 10,
     "metadata": {},
     "output_type": "execute_result"
    }
   ],
   "source": [
    "df.describe().T"
   ]
  },
  {
   "cell_type": "markdown",
   "id": "f5dce05b",
   "metadata": {},
   "source": [
    "### Saquemos algunas graficas"
   ]
  },
  {
   "cell_type": "markdown",
   "id": "8286618f",
   "metadata": {},
   "source": [
    "Comparemos la productividad real y la productividad objetivo para ver el rendimiento de los empleados."
   ]
  },
  {
   "cell_type": "code",
   "execution_count": 11,
   "id": "1ba2f1cd",
   "metadata": {},
   "outputs": [
    {
     "data": {
      "image/png": "[encoded data removed]",
      "text/plain": [
       "<Figure size 1080x360 with 1 Axes>"
      ]
     },
     "metadata": {
      "needs_background": "light"
     },
     "output_type": "display_data"
    }
   ],
   "source": [
    "import seaborn as sns\n",
    "import matplotlib.pyplot as plt\n",
    "plt.figure(figsize = (15,5))\n",
    "ax=sns.lineplot(y='targeted_productivity',x='date' ,color = \"red\", data =df,legend='brief')\n",
    "ax=sns.lineplot(y= 'actual_productivity',x='date',data=df, color=\"green\", legend = 'brief')\n",
    "ax.set(ylabel = 'Productivity')\n",
    "plt.show()"
   ]
  },
  {
   "cell_type": "markdown",
   "id": "1d10e0c0",
   "metadata": {},
   "source": [
    "Ahora analicemos si el día concreto de la semana o el equipo o el departamento tiene algún efecto significativo en la productividad."
   ]
  },
  {
   "cell_type": "code",
   "execution_count": 12,
   "id": "adf21106",
   "metadata": {},
   "outputs": [
    {
     "name": "stdout",
     "output_type": "stream",
     "text": [
      "Productividad en Thursday :  0.7129915972435232\n",
      "Productividad en Saturday :  0.7448301823956044\n",
      "Productividad en Sunday :  0.7176795450459182\n",
      "Productividad en Monday :  0.7294553565179488\n",
      "Productividad en Tuesday :  0.7332077270257732\n",
      "Productividad en Wednesday :  0.7191576944549999\n"
     ]
    },
    {
     "data": {
      "image/png": "[encoded data removed]",
      "text/plain": [
       "<Figure size 432x288 with 1 Axes>"
      ]
     },
     "metadata": {
      "needs_background": "light"
     },
     "output_type": "display_data"
    }
   ],
   "source": [
    "l = []\n",
    "l1=[]\n",
    "column_name = \"day\"\n",
    "for i in list(df[column_name].unique()):\n",
    "    print( f\"Productividad en {i} : \",df[df[column_name] == i][\"actual_productivity\"].mean())\n",
    "    l.append(df[df[column_name] == i][\"actual_productivity\"].mean())\n",
    "    l1.append(i)\n",
    "    dictionary = {\"data\":l,\"keys\":l1}\n",
    "    sns.barplot( x = \"keys\" , y = \"data\", data = dictionary)\n",
    "# plt.savefig('days.png')"
   ]
  },
  {
   "cell_type": "markdown",
   "id": "9f7a6b8d",
   "metadata": {},
   "source": [
    "Como podemos ver arriba, la productividad no depende del equipo, la categoría, el trimestre o el día."
   ]
  },
  {
   "cell_type": "markdown",
   "id": "6da855f4",
   "metadata": {},
   "source": [
    "Vamos a trazar la matriz de correlación para ver la cantidad de correlación -"
   ]
  },
  {
   "cell_type": "code",
   "execution_count": 13,
   "id": "2a0bbd34",
   "metadata": {},
   "outputs": [
    {
     "data": {
      "image/png": "[encoded data removed]",
      "text/plain": [
       "<Figure size 1080x1080 with 2 Axes>"
      ]
     },
     "metadata": {
      "needs_background": "light"
     },
     "output_type": "display_data"
    }
   ],
   "source": [
    "corrMatrix = df.corr()\n",
    "fig, ax = plt.subplots(figsize=(15,15)) # Sample figsize in inches\n",
    "sns.heatmap(corrMatrix, annot=True, linewidths=.5, ax=ax)\n",
    "plt.show()"
   ]
  },
  {
   "cell_type": "markdown",
   "id": "e1c5cc0e",
   "metadata": {},
   "source": [
    "A partir de estos datos, es evidente que la productividad depende principalmente del objetivo de productividad, ya que el hecho de tener un objetivo motivará e impulsará a los empleados."
   ]
  },
  {
   "cell_type": "markdown",
   "id": "9687114f",
   "metadata": {},
   "source": [
    "## Preparemos los datos finales"
   ]
  },
  {
   "cell_type": "markdown",
   "id": "9369f1ab",
   "metadata": {
    "papermill": {
     "duration": 0.020621,
     "end_time": "2021-05-08T09:19:41.493661",
     "exception": false,
     "start_time": "2021-05-08T09:19:41.473040",
     "status": "completed"
    },
    "tags": []
   },
   "source": [
    "Hagamos una limpieza y un preprocesamiento de los datos antes de pasar a la predicción"
   ]
  },
  {
   "cell_type": "code",
   "execution_count": 14,
   "id": "7623a387",
   "metadata": {
    "execution": {
     "iopub.execute_input": "2021-05-08T09:19:41.549677Z",
     "iopub.status.busy": "2021-05-08T09:19:41.544603Z",
     "iopub.status.idle": "2021-05-08T09:19:41.559362Z",
     "shell.execute_reply": "2021-05-08T09:19:41.559768Z"
    },
    "papermill": {
     "duration": 0.046223,
     "end_time": "2021-05-08T09:19:41.559924",
     "exception": false,
     "start_time": "2021-05-08T09:19:41.513701",
     "status": "completed"
    },
    "tags": []
   },
   "outputs": [],
   "source": [
    "df['date'] = pd.to_datetime(df['date'])"
   ]
  },
  {
   "cell_type": "code",
   "execution_count": 15,
   "id": "9f23033d",
   "metadata": {},
   "outputs": [
    {
     "data": {
      "text/plain": [
       "0      2015-01-01\n",
       "1      2015-01-01\n",
       "2      2015-01-01\n",
       "3      2015-01-01\n",
       "4      2015-01-01\n",
       "          ...    \n",
       "1192   2015-03-11\n",
       "1193   2015-03-11\n",
       "1194   2015-03-11\n",
       "1195   2015-03-11\n",
       "1196   2015-03-11\n",
       "Name: date, Length: 1160, dtype: datetime64[ns]"
      ]
     },
     "execution_count": 15,
     "metadata": {},
     "output_type": "execute_result"
    }
   ],
   "source": [
    "df.date"
   ]
  },
  {
   "cell_type": "markdown",
   "id": "5735a73e",
   "metadata": {},
   "source": [
    "Así que los datos que tenemos son de 3 meses. \n",
    "Optamos por dejar el dia ya que como son pocos meses es suficiente en lugar de la fecha completa."
   ]
  },
  {
   "cell_type": "code",
   "execution_count": 16,
   "id": "7b814f7d",
   "metadata": {},
   "outputs": [],
   "source": [
    "df['Dia']=df['date'].dt.day\n",
    "df.drop(['date'],axis=1, inplace=True)"
   ]
  },
  {
   "cell_type": "markdown",
   "id": "c05be1d3",
   "metadata": {},
   "source": [
    "Optamos por llenar los wip faltantes por la media de la misma"
   ]
  },
  {
   "cell_type": "code",
   "execution_count": 17,
   "id": "4abe54db",
   "metadata": {
    "execution": {
     "iopub.execute_input": "2021-05-08T09:19:41.659832Z",
     "iopub.status.busy": "2021-05-08T09:19:41.659120Z",
     "iopub.status.idle": "2021-05-08T09:19:41.663220Z",
     "shell.execute_reply": "2021-05-08T09:19:41.662659Z"
    },
    "papermill": {
     "duration": 0.030397,
     "end_time": "2021-05-08T09:19:41.663383",
     "exception": false,
     "start_time": "2021-05-08T09:19:41.632986",
     "status": "completed"
    },
    "tags": []
   },
   "outputs": [],
   "source": [
    "df['wip'].fillna(int(df['wip'].mean()), inplace=True)"
   ]
  },
  {
   "cell_type": "code",
   "execution_count": 18,
   "id": "8f7f2a72",
   "metadata": {
    "execution": {
     "iopub.execute_input": "2021-05-08T09:19:41.716514Z",
     "iopub.status.busy": "2021-05-08T09:19:41.712456Z",
     "iopub.status.idle": "2021-05-08T09:19:41.723089Z",
     "shell.execute_reply": "2021-05-08T09:19:41.722646Z"
    },
    "papermill": {
     "duration": 0.037443,
     "end_time": "2021-05-08T09:19:41.723211",
     "exception": false,
     "start_time": "2021-05-08T09:19:41.685768",
     "status": "completed"
    },
    "tags": []
   },
   "outputs": [
    {
     "data": {
      "text/plain": [
       "quarter                  0\n",
       "department               0\n",
       "day                      0\n",
       "team                     0\n",
       "targeted_productivity    0\n",
       "smv                      0\n",
       "wip                      0\n",
       "over_time                0\n",
       "incentive                0\n",
       "idle_time                0\n",
       "idle_men                 0\n",
       "no_of_style_change       0\n",
       "no_of_workers            0\n",
       "actual_productivity      0\n",
       "Dia                      0\n",
       "dtype: int64"
      ]
     },
     "execution_count": 18,
     "metadata": {},
     "output_type": "execute_result"
    }
   ],
   "source": [
    "df.isnull().sum()"
   ]
  },
  {
   "cell_type": "markdown",
   "id": "438f50aa",
   "metadata": {},
   "source": [
    "Ahora podemos ver que no tenemos datos faltantes"
   ]
  },
  {
   "cell_type": "markdown",
   "id": "f210c303",
   "metadata": {},
   "source": [
    "### Encode"
   ]
  },
  {
   "cell_type": "markdown",
   "id": "a3d93f22",
   "metadata": {},
   "source": [
    "En los datos, puedes ver algunas columnas no numéricas. Así que vamos a codificarlas, ya que la mayoría de los algoritmos de aprendizaje automático sólo funcionan con datos numéricos."
   ]
  },
  {
   "cell_type": "markdown",
   "id": "94e0315e",
   "metadata": {},
   "source": [
    "Let’s encode the data with MultiColumnLabelEncoder"
   ]
  },
  {
   "cell_type": "code",
   "execution_count": 19,
   "id": "e67f8858",
   "metadata": {},
   "outputs": [],
   "source": [
    "#!pip install MultiColumnLabelEncoder"
   ]
  },
  {
   "cell_type": "code",
   "execution_count": 20,
   "id": "f155e1f3",
   "metadata": {},
   "outputs": [],
   "source": [
    "import MultiColumnLabelEncoder"
   ]
  },
  {
   "cell_type": "code",
   "execution_count": 21,
   "id": "e6950741",
   "metadata": {},
   "outputs": [],
   "source": [
    "Mcle = MultiColumnLabelEncoder.MultiColumnLabelEncoder()\n",
    "df = Mcle.fit_transform(df)"
   ]
  },
  {
   "cell_type": "code",
   "execution_count": 22,
   "id": "f694daec",
   "metadata": {},
   "outputs": [],
   "source": [
    "x=df.drop(['actual_productivity'],axis=1)\n",
    "y=df['actual_productivity']"
   ]
  },
  {
   "cell_type": "markdown",
   "id": "2d599b92",
   "metadata": {},
   "source": [
    "## Prediciendo la productividad"
   ]
  },
  {
   "cell_type": "markdown",
   "id": "33ed1b51",
   "metadata": {},
   "source": [
    "Antes de tratar de predecir, vamos a preparar los datos de entrenamiento y de prueba"
   ]
  },
  {
   "cell_type": "code",
   "execution_count": 23,
   "id": "ce4e7a92",
   "metadata": {},
   "outputs": [],
   "source": [
    "from sklearn.model_selection import train_test_split\n",
    "\n",
    "x_train, x_test, y_train, y_test = train_test_split(x, y,train_size=0.8,random_state=0)"
   ]
  },
  {
   "cell_type": "markdown",
   "id": "07960bb6",
   "metadata": {},
   "source": [
    "Los algoritmos que implementaremos para ver cual se adapta mejor a los datos son los siguientes:"
   ]
  },
  {
   "cell_type": "code",
   "execution_count": 24,
   "id": "44a67d90",
   "metadata": {},
   "outputs": [],
   "source": [
    "from sklearn.linear_model import LinearRegression\n",
    "from sklearn.ensemble import RandomForestRegressor\n",
    "import xgboost as xgb\n",
    "from sklearn.svm import SVR\n",
    "from sklearn.linear_model import Lasso\n",
    "from sklearn.linear_model import Ridge\n",
    "from sklearn.tree import DecisionTreeRegressor"
   ]
  },
  {
   "cell_type": "markdown",
   "id": "1390b63a",
   "metadata": {},
   "source": [
    "Funcion para obtener algunas metricas de los algoritmos con nuestros datos."
   ]
  },
  {
   "cell_type": "code",
   "execution_count": 35,
   "id": "c39a48f6",
   "metadata": {},
   "outputs": [],
   "source": [
    "def impresionResultados(y_test, pred6):\n",
    "    print(\"test_MSE:\",mean_squared_error(y_test, pred6))\n",
    "    print(\"test_MAE:\",mean_absolute_error(y_test, pred6))\n",
    "    print(\"R2_score:{}\".format(r2_score(y_test, pred6)))"
   ]
  },
  {
   "cell_type": "markdown",
   "id": "018b8b1f",
   "metadata": {},
   "source": [
    "- LinearRegression"
   ]
  },
  {
   "cell_type": "code",
   "execution_count": 36,
   "id": "9ed8e021",
   "metadata": {},
   "outputs": [
    {
     "name": "stdout",
     "output_type": "stream",
     "text": [
      "test_MSE: 0.020461330461947067\n",
      "test_MAE: 0.10463289965299596\n",
      "R2_score:0.30161613639858786\n"
     ]
    }
   ],
   "source": [
    "model_lr=LinearRegression()\n",
    "\n",
    "model_lr.fit(x_train,y_train)\n",
    "pred_test=model_lr.predict(x_test)\n",
    "impresionResultados(y_test, pred_test)"
   ]
  },
  {
   "cell_type": "markdown",
   "id": "a510c151",
   "metadata": {},
   "source": [
    "- Random Forest Regressor"
   ]
  },
  {
   "cell_type": "code",
   "execution_count": 27,
   "id": "93f8e2f1",
   "metadata": {},
   "outputs": [
    {
     "name": "stdout",
     "output_type": "stream",
     "text": [
      "test_MSE: 0.013834633118028246\n",
      "test_MAE: 0.08043869812028398\n",
      "R2_score:0.5277978357054887\n"
     ]
    }
   ],
   "source": [
    "model_rfe = RandomForestRegressor(n_estimators=200,max_depth=5)\n",
    "\n",
    "model_rfe.fit(x_train, y_train)\n",
    "pred = model_rfe.predict(x_test)\n",
    "impresionResultados(y_test, pred)"
   ]
  },
  {
   "cell_type": "markdown",
   "id": "b50106a8",
   "metadata": {},
   "source": [
    "- XGBoost"
   ]
  },
  {
   "cell_type": "code",
   "execution_count": 28,
   "id": "2e169028",
   "metadata": {},
   "outputs": [
    {
     "name": "stdout",
     "output_type": "stream",
     "text": [
      "test_MSE: 0.013509610697130293\n",
      "test_MAE: 0.07545754087926641\n",
      "R2_score:0.5388914649533982\n"
     ]
    }
   ],
   "source": [
    "model_xgb = xgb.XGBRegressor(n_estimators=200, max_depth=5, learning_rate=0.1)\n",
    "\n",
    "model_xgb.fit(x_train, y_train)\n",
    "pred3=model_xgb.predict(x_test)\n",
    "impresionResultados(y_test, pred3)"
   ]
  },
  {
   "cell_type": "markdown",
   "id": "88e2211f",
   "metadata": {},
   "source": [
    "- SVR"
   ]
  },
  {
   "cell_type": "code",
   "execution_count": 29,
   "id": "88ec0a21",
   "metadata": {},
   "outputs": [
    {
     "name": "stdout",
     "output_type": "stream",
     "text": [
      "test_MSE: 0.026322453768989118\n",
      "test_MAE: 0.11583800984555279\n",
      "R2_score:0.101564925269925\n"
     ]
    }
   ],
   "source": [
    "model_svr = SVR(kernel='rbf', C=10, epsilon=0.00001) # set kernel and hyperparameters\n",
    "\n",
    "svr = model_svr.fit(x_train, y_train)\n",
    "pred4 = model_svr.predict(x_test)\n",
    "impresionResultados(y_test, pred4)"
   ]
  },
  {
   "cell_type": "markdown",
   "id": "aa7ba36a",
   "metadata": {},
   "source": [
    "- Lasso"
   ]
  },
  {
   "cell_type": "code",
   "execution_count": 30,
   "id": "77635f72",
   "metadata": {},
   "outputs": [
    {
     "name": "stdout",
     "output_type": "stream",
     "text": [
      "test_MSE: 0.02933030569081478\n",
      "test_MAE: 0.13203090144610116\n",
      "R2_score:-0.0010987431661131364\n"
     ]
    }
   ],
   "source": [
    "las_reg = Lasso()\n",
    "\n",
    "las_reg.fit(x_train, y_train)\n",
    "pred5 = las_reg.predict(x_test)\n",
    "impresionResultados(y_test, pred5)"
   ]
  },
  {
   "cell_type": "markdown",
   "id": "28242411",
   "metadata": {},
   "source": [
    "- Ridge"
   ]
  },
  {
   "cell_type": "code",
   "execution_count": 34,
   "id": "6847c480",
   "metadata": {},
   "outputs": [],
   "source": [
    "# rid_reg = Ridge()\n",
    "\n",
    "# rid_reg.fit(x_train, y_train)\n",
    "# pred6 = rid_reg.predict(x_test)\n",
    "# impresionResultados(y_test, pred6)"
   ]
  },
  {
   "cell_type": "markdown",
   "id": "d677bdc2",
   "metadata": {},
   "source": [
    "- Decision Tree Regressor"
   ]
  },
  {
   "cell_type": "code",
   "execution_count": 33,
   "id": "694dd5ba",
   "metadata": {},
   "outputs": [
    {
     "name": "stdout",
     "output_type": "stream",
     "text": [
      "test_MSE: 0.020166244549804504\n",
      "test_MAE: 0.08745508985775864\n",
      "R2_score:0.3116879760475165\n"
     ]
    }
   ],
   "source": [
    "dt_regressor = DecisionTreeRegressor(random_state = 0)\n",
    "\n",
    "dt_regressor.fit(x_train,y_train)\n",
    "pred7 = dt_regressor.predict(x_test)\n",
    "impresionResultados(y_test, pred7)\n"
   ]
  },
  {
   "cell_type": "code",
   "execution_count": null,
   "id": "ae9ede5a",
   "metadata": {},
   "outputs": [],
   "source": []
  },
  {
   "cell_type": "code",
   "execution_count": null,
   "id": "b256e7c2",
   "metadata": {},
   "outputs": [],
   "source": []
  },
  {
   "cell_type": "code",
   "execution_count": null,
   "id": "a2ceaa28",
   "metadata": {},
   "outputs": [],
   "source": []
  }
 ],
 "metadata": {
  "kernelspec": {
   "display_name": "Python 3 (ipykernel)",
   "language": "python",
   "name": "python3"
  },
  "language_info": {
   "codemirror_mode": {
    "name": "ipython",
    "version": 3
   },
   "file_extension": ".py",
   "mimetype": "text/x-python",
   "name": "python",
   "nbconvert_exporter": "python",
   "pygments_lexer": "ipython3",
   "version": "3.9.12"
  },
  "papermill": {
   "default_parameters": {},
   "duration": 47.259788,
   "end_time": "2021-05-08T09:20:17.780615",
   "environment_variables": {},
   "exception": null,
   "input_path": "__notebook__.ipynb",
   "output_path": "__notebook__.ipynb",
   "parameters": {},
   "start_time": "2021-05-08T09:19:30.520827",
   "version": "2.3.2"
  }
 },
 "nbformat": 4,
 "nbformat_minor": 5
}
