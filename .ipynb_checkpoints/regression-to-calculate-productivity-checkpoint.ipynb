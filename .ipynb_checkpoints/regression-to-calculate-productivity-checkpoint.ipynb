{
 "cells": [
  {
   "cell_type": "markdown",
   "id": "97350bda",
   "metadata": {},
   "source": [
    "# Workers productivity"
   ]
  },
  {
   "cell_type": "markdown",
   "id": "eedc2d37",
   "metadata": {},
   "source": [
    "Contenido:\n",
    "- Analisis de datos de la productividad de trabajadores.\n",
    "- Modelo predictivo de la productividad de los trabajadores."
   ]
  },
  {
   "cell_type": "markdown",
   "id": "7dddae38",
   "metadata": {},
   "source": [
    "## **NOTA** : eliminar datos que sobresalen algunas metricas, como mas de 1, etc\n",
    "\n",
    "Queremos predecir o queremos clasficar si es buena o mala la real vs la objetivo"
   ]
  },
  {
   "cell_type": "markdown",
   "id": "a69b3670",
   "metadata": {},
   "source": [
    "Importamos librerias necesarias"
   ]
  },
  {
   "cell_type": "code",
   "execution_count": 1,
   "id": "f157c92c",
   "metadata": {
    "_cell_guid": "b1076dfc-b9ad-4769-8c92-a6c4dae69d19",
    "_uuid": "8f2839f25d086af736a60e9eeb907d3b93b6e0e5",
    "execution": {
     "iopub.execute_input": "2021-05-08T09:19:38.931027Z",
     "iopub.status.busy": "2021-05-08T09:19:38.930157Z",
     "iopub.status.idle": "2021-05-08T09:19:38.950835Z",
     "shell.execute_reply": "2021-05-08T09:19:38.951359Z"
    },
    "papermill": {
     "duration": 0.04307,
     "end_time": "2021-05-08T09:19:38.951715",
     "exception": false,
     "start_time": "2021-05-08T09:19:38.908645",
     "status": "completed"
    },
    "tags": []
   },
   "outputs": [],
   "source": [
    "import numpy as np\n",
    "import pandas as pd\n",
    "import warnings\n",
    "warnings.filterwarnings('ignore')\n",
    "import matplotlib.pyplot as plt\n",
    "import seaborn as sns\n",
    "sns.set_style(\"darkgrid\")\n",
    "from sklearn.metrics import accuracy_score,r2_score, mean_squared_error, mean_absolute_error, mean_squared_log_error"
   ]
  },
  {
   "cell_type": "markdown",
   "id": "7fede36d",
   "metadata": {},
   "source": [
    "Leemos nuestros datos"
   ]
  },
  {
   "cell_type": "code",
   "execution_count": 2,
   "id": "d57eadb0",
   "metadata": {
    "execution": {
     "iopub.execute_input": "2021-05-08T09:19:40.963349Z",
     "iopub.status.busy": "2021-05-08T09:19:40.962738Z",
     "iopub.status.idle": "2021-05-08T09:19:40.989713Z",
     "shell.execute_reply": "2021-05-08T09:19:40.989296Z"
    },
    "papermill": {
     "duration": 0.051023,
     "end_time": "2021-05-08T09:19:40.989841",
     "exception": false,
     "start_time": "2021-05-08T09:19:40.938818",
     "status": "completed"
    },
    "tags": []
   },
   "outputs": [],
   "source": [
    "df = pd.read_csv('garments_worker_productivity.csv')"
   ]
  },
  {
   "cell_type": "markdown",
   "id": "32afa1f5",
   "metadata": {
    "papermill": {
     "duration": 0.017999,
     "end_time": "2021-05-08T09:19:40.919728",
     "exception": false,
     "start_time": "2021-05-08T09:19:40.901729",
     "status": "completed"
    },
    "tags": []
   },
   "source": [
    "Atributos del dataset:\n",
    "1. **date**: Fecha en MM-DD-AAAA\n",
    "3. **quarter**: Una parte del mes. Un mes se divide en cuatro trimestres\n",
    "4. **department**: Departamento asociado\n",
    "2. **day**: Día de la semana\n",
    "5. **team**: Número de equipo asociado a la instancia\n",
    "8. **targeted_productivity**: Objetivo de productividad fijado por la autoridad para cada equipo para cada día\n",
    "9. **smv**: Valor estándar del minuto, es el tiempo asignado a una tarea \n",
    "10. **wip**: Trabajos en curso. Incluye el número de artículos sin terminar para los productos \n",
    "11. **over_time**: Representa la cantidad de tiempo extra de cada equipo en minutos\n",
    "12. **incentive**: Representa el importe del incentivo financiero (en BDT) que permite o motiva una determinada acción\n",
    "13. **idle_time**: La cantidad de tiempo en que la producción se interrumpió debido a varias razones \n",
    "14. **idle_men**: El número de trabajadores que estuvieron inactivos debido a la interrupción de la producción\n",
    "7. **no_of_style_change**: Número de cambios en el estilo de un determinado producto\n",
    "6. **no_of_workers**: Número de trabajadores en cada equipo\n",
    "15. **actual_productivity**: Es el porcentaje real de productividad que han aportado los trabajadores. Va de 0 a 1."
   ]
  },
  {
   "cell_type": "code",
   "execution_count": 3,
   "id": "dff1fc33",
   "metadata": {},
   "outputs": [],
   "source": [
    "# column = df['actual_productivity']\n",
    "# count = column[column > 1].count()\n",
    "# count"
   ]
  },
  {
   "cell_type": "code",
   "execution_count": 4,
   "id": "b6ee6852",
   "metadata": {},
   "outputs": [],
   "source": [
    "# df = df.drop(df[df['actual_productivity'] > 1].index)\n",
    "# df"
   ]
  },
  {
   "cell_type": "code",
   "execution_count": null,
   "id": "a2b9874d",
   "metadata": {},
   "outputs": [],
   "source": []
  },
  {
   "cell_type": "code",
   "execution_count": null,
   "id": "26db946b",
   "metadata": {},
   "outputs": [],
   "source": []
  },
  {
   "cell_type": "code",
   "execution_count": null,
   "id": "c777a1b6",
   "metadata": {},
   "outputs": [],
   "source": []
  },
  {
   "cell_type": "markdown",
   "id": "1bfc3d33",
   "metadata": {},
   "source": [
    "Veamos los tipos de departamentos"
   ]
  },
  {
   "cell_type": "code",
   "execution_count": 5,
   "id": "b85ac149",
   "metadata": {},
   "outputs": [
    {
     "data": {
      "text/plain": [
       "sweing        691\n",
       "finishing     257\n",
       "finishing     249\n",
       "Name: department, dtype: int64"
      ]
     },
     "execution_count": 5,
     "metadata": {},
     "output_type": "execute_result"
    }
   ],
   "source": [
    "df['department'].value_counts()"
   ]
  },
  {
   "cell_type": "markdown",
   "id": "f83f8efa",
   "metadata": {},
   "source": [
    "Aquí podemos ver que un espacio divide en dos categorías diferentes a \"finishing\". Ahora vamos a fusionarlas."
   ]
  },
  {
   "cell_type": "code",
   "execution_count": 6,
   "id": "366a998a",
   "metadata": {},
   "outputs": [],
   "source": [
    "df['department'] = df['department'].apply(lambda x: 'finishing' if x.replace(\" \",\"\") == 'finishing' else 'sewing' )"
   ]
  },
  {
   "cell_type": "markdown",
   "id": "a502d7c5",
   "metadata": {},
   "source": [
    "Podemos ver que ahora ya tenemos los departamentos correctos"
   ]
  },
  {
   "cell_type": "code",
   "execution_count": 7,
   "id": "67136bdf",
   "metadata": {},
   "outputs": [
    {
     "data": {
      "text/plain": [
       "<AxesSubplot:ylabel='department'>"
      ]
     },
     "execution_count": 7,
     "metadata": {},
     "output_type": "execute_result"
    },
    {
     "data": {
      "image/png": "[encoded data removed]",
      "text/plain": [
       "<Figure size 432x288 with 1 Axes>"
      ]
     },
     "metadata": {},
     "output_type": "display_data"
    }
   ],
   "source": [
    "df.department.value_counts().plot.pie(autopct='%.2f %%')"
   ]
  },
  {
   "cell_type": "markdown",
   "id": "9e05cdaa",
   "metadata": {},
   "source": [
    "### Conociendo mas el dataset"
   ]
  },
  {
   "cell_type": "code",
   "execution_count": 8,
   "id": "83ae387f",
   "metadata": {
    "execution": {
     "iopub.execute_input": "2021-05-08T09:19:41.206121Z",
     "iopub.status.busy": "2021-05-08T09:19:41.205422Z",
     "iopub.status.idle": "2021-05-08T09:19:41.211079Z",
     "shell.execute_reply": "2021-05-08T09:19:41.210517Z"
    },
    "papermill": {
     "duration": 0.049059,
     "end_time": "2021-05-08T09:19:41.211203",
     "exception": false,
     "start_time": "2021-05-08T09:19:41.162144",
     "status": "completed"
    },
    "tags": []
   },
   "outputs": [
    {
     "name": "stdout",
     "output_type": "stream",
     "text": [
      "<class 'pandas.core.frame.DataFrame'>\n",
      "RangeIndex: 1197 entries, 0 to 1196\n",
      "Data columns (total 15 columns):\n",
      " #   Column                 Non-Null Count  Dtype  \n",
      "---  ------                 --------------  -----  \n",
      " 0   date                   1197 non-null   object \n",
      " 1   quarter                1197 non-null   object \n",
      " 2   department             1197 non-null   object \n",
      " 3   day                    1197 non-null   object \n",
      " 4   team                   1197 non-null   int64  \n",
      " 5   targeted_productivity  1197 non-null   float64\n",
      " 6   smv                    1197 non-null   float64\n",
      " 7   wip                    691 non-null    float64\n",
      " 8   over_time              1197 non-null   int64  \n",
      " 9   incentive              1197 non-null   int64  \n",
      " 10  idle_time              1197 non-null   float64\n",
      " 11  idle_men               1197 non-null   int64  \n",
      " 12  no_of_style_change     1197 non-null   int64  \n",
      " 13  no_of_workers          1197 non-null   float64\n",
      " 14  actual_productivity    1197 non-null   float64\n",
      "dtypes: float64(6), int64(5), object(4)\n",
      "memory usage: 140.4+ KB\n"
     ]
    }
   ],
   "source": [
    "df.info()"
   ]
  },
  {
   "cell_type": "code",
   "execution_count": 9,
   "id": "cf0a2cb9",
   "metadata": {
    "execution": {
     "iopub.execute_input": "2021-05-08T09:19:41.258103Z",
     "iopub.status.busy": "2021-05-08T09:19:41.257460Z",
     "iopub.status.idle": "2021-05-08T09:19:41.261474Z",
     "shell.execute_reply": "2021-05-08T09:19:41.260868Z"
    },
    "papermill": {
     "duration": 0.030589,
     "end_time": "2021-05-08T09:19:41.261601",
     "exception": false,
     "start_time": "2021-05-08T09:19:41.231012",
     "status": "completed"
    },
    "tags": []
   },
   "outputs": [
    {
     "data": {
      "text/plain": [
       "date                       0\n",
       "quarter                    0\n",
       "department                 0\n",
       "day                        0\n",
       "team                       0\n",
       "targeted_productivity      0\n",
       "smv                        0\n",
       "wip                      506\n",
       "over_time                  0\n",
       "incentive                  0\n",
       "idle_time                  0\n",
       "idle_men                   0\n",
       "no_of_style_change         0\n",
       "no_of_workers              0\n",
       "actual_productivity        0\n",
       "dtype: int64"
      ]
     },
     "execution_count": 9,
     "metadata": {},
     "output_type": "execute_result"
    }
   ],
   "source": [
    "df.isnull().sum()"
   ]
  },
  {
   "cell_type": "markdown",
   "id": "53f655c7",
   "metadata": {},
   "source": [
    "Podemos ver que hay 506 nulos en la columna de \"wip\""
   ]
  },
  {
   "cell_type": "code",
   "execution_count": 10,
   "id": "3e61d537",
   "metadata": {
    "execution": {
     "iopub.execute_input": "2021-05-08T09:19:41.407550Z",
     "iopub.status.busy": "2021-05-08T09:19:41.407045Z",
     "iopub.status.idle": "2021-05-08T09:19:41.451014Z",
     "shell.execute_reply": "2021-05-08T09:19:41.451422Z"
    },
    "papermill": {
     "duration": 0.073712,
     "end_time": "2021-05-08T09:19:41.451577",
     "exception": false,
     "start_time": "2021-05-08T09:19:41.377865",
     "status": "completed"
    },
    "tags": []
   },
   "outputs": [
    {
     "data": {
      "text/html": [
       "<div>\n",
       "<style scoped>\n",
       "    .dataframe tbody tr th:only-of-type {\n",
       "        vertical-align: middle;\n",
       "    }\n",
       "\n",
       "    .dataframe tbody tr th {\n",
       "        vertical-align: top;\n",
       "    }\n",
       "\n",
       "    .dataframe thead th {\n",
       "        text-align: right;\n",
       "    }\n",
       "</style>\n",
       "<table border=\"1\" class=\"dataframe\">\n",
       "  <thead>\n",
       "    <tr style=\"text-align: right;\">\n",
       "      <th></th>\n",
       "      <th>count</th>\n",
       "      <th>mean</th>\n",
       "      <th>std</th>\n",
       "      <th>min</th>\n",
       "      <th>25%</th>\n",
       "      <th>50%</th>\n",
       "      <th>75%</th>\n",
       "      <th>max</th>\n",
       "    </tr>\n",
       "  </thead>\n",
       "  <tbody>\n",
       "    <tr>\n",
       "      <th>team</th>\n",
       "      <td>1197.0</td>\n",
       "      <td>6.426901</td>\n",
       "      <td>3.463963</td>\n",
       "      <td>1.000000</td>\n",
       "      <td>3.000000</td>\n",
       "      <td>6.000000</td>\n",
       "      <td>9.000000</td>\n",
       "      <td>12.000000</td>\n",
       "    </tr>\n",
       "    <tr>\n",
       "      <th>targeted_productivity</th>\n",
       "      <td>1197.0</td>\n",
       "      <td>0.729632</td>\n",
       "      <td>0.097891</td>\n",
       "      <td>0.070000</td>\n",
       "      <td>0.700000</td>\n",
       "      <td>0.750000</td>\n",
       "      <td>0.800000</td>\n",
       "      <td>0.800000</td>\n",
       "    </tr>\n",
       "    <tr>\n",
       "      <th>smv</th>\n",
       "      <td>1197.0</td>\n",
       "      <td>15.062172</td>\n",
       "      <td>10.943219</td>\n",
       "      <td>2.900000</td>\n",
       "      <td>3.940000</td>\n",
       "      <td>15.260000</td>\n",
       "      <td>24.260000</td>\n",
       "      <td>54.560000</td>\n",
       "    </tr>\n",
       "    <tr>\n",
       "      <th>wip</th>\n",
       "      <td>691.0</td>\n",
       "      <td>1190.465991</td>\n",
       "      <td>1837.455001</td>\n",
       "      <td>7.000000</td>\n",
       "      <td>774.500000</td>\n",
       "      <td>1039.000000</td>\n",
       "      <td>1252.500000</td>\n",
       "      <td>23122.000000</td>\n",
       "    </tr>\n",
       "    <tr>\n",
       "      <th>over_time</th>\n",
       "      <td>1197.0</td>\n",
       "      <td>4567.460317</td>\n",
       "      <td>3348.823563</td>\n",
       "      <td>0.000000</td>\n",
       "      <td>1440.000000</td>\n",
       "      <td>3960.000000</td>\n",
       "      <td>6960.000000</td>\n",
       "      <td>25920.000000</td>\n",
       "    </tr>\n",
       "    <tr>\n",
       "      <th>incentive</th>\n",
       "      <td>1197.0</td>\n",
       "      <td>38.210526</td>\n",
       "      <td>160.182643</td>\n",
       "      <td>0.000000</td>\n",
       "      <td>0.000000</td>\n",
       "      <td>0.000000</td>\n",
       "      <td>50.000000</td>\n",
       "      <td>3600.000000</td>\n",
       "    </tr>\n",
       "    <tr>\n",
       "      <th>idle_time</th>\n",
       "      <td>1197.0</td>\n",
       "      <td>0.730159</td>\n",
       "      <td>12.709757</td>\n",
       "      <td>0.000000</td>\n",
       "      <td>0.000000</td>\n",
       "      <td>0.000000</td>\n",
       "      <td>0.000000</td>\n",
       "      <td>300.000000</td>\n",
       "    </tr>\n",
       "    <tr>\n",
       "      <th>idle_men</th>\n",
       "      <td>1197.0</td>\n",
       "      <td>0.369256</td>\n",
       "      <td>3.268987</td>\n",
       "      <td>0.000000</td>\n",
       "      <td>0.000000</td>\n",
       "      <td>0.000000</td>\n",
       "      <td>0.000000</td>\n",
       "      <td>45.000000</td>\n",
       "    </tr>\n",
       "    <tr>\n",
       "      <th>no_of_style_change</th>\n",
       "      <td>1197.0</td>\n",
       "      <td>0.150376</td>\n",
       "      <td>0.427848</td>\n",
       "      <td>0.000000</td>\n",
       "      <td>0.000000</td>\n",
       "      <td>0.000000</td>\n",
       "      <td>0.000000</td>\n",
       "      <td>2.000000</td>\n",
       "    </tr>\n",
       "    <tr>\n",
       "      <th>no_of_workers</th>\n",
       "      <td>1197.0</td>\n",
       "      <td>34.609858</td>\n",
       "      <td>22.197687</td>\n",
       "      <td>2.000000</td>\n",
       "      <td>9.000000</td>\n",
       "      <td>34.000000</td>\n",
       "      <td>57.000000</td>\n",
       "      <td>89.000000</td>\n",
       "    </tr>\n",
       "    <tr>\n",
       "      <th>actual_productivity</th>\n",
       "      <td>1197.0</td>\n",
       "      <td>0.735091</td>\n",
       "      <td>0.174488</td>\n",
       "      <td>0.233705</td>\n",
       "      <td>0.650307</td>\n",
       "      <td>0.773333</td>\n",
       "      <td>0.850253</td>\n",
       "      <td>1.120437</td>\n",
       "    </tr>\n",
       "  </tbody>\n",
       "</table>\n",
       "</div>"
      ],
      "text/plain": [
       "                        count         mean          std       min  \\\n",
       "team                   1197.0     6.426901     3.463963  1.000000   \n",
       "targeted_productivity  1197.0     0.729632     0.097891  0.070000   \n",
       "smv                    1197.0    15.062172    10.943219  2.900000   \n",
       "wip                     691.0  1190.465991  1837.455001  7.000000   \n",
       "over_time              1197.0  4567.460317  3348.823563  0.000000   \n",
       "incentive              1197.0    38.210526   160.182643  0.000000   \n",
       "idle_time              1197.0     0.730159    12.709757  0.000000   \n",
       "idle_men               1197.0     0.369256     3.268987  0.000000   \n",
       "no_of_style_change     1197.0     0.150376     0.427848  0.000000   \n",
       "no_of_workers          1197.0    34.609858    22.197687  2.000000   \n",
       "actual_productivity    1197.0     0.735091     0.174488  0.233705   \n",
       "\n",
       "                               25%          50%          75%           max  \n",
       "team                      3.000000     6.000000     9.000000     12.000000  \n",
       "targeted_productivity     0.700000     0.750000     0.800000      0.800000  \n",
       "smv                       3.940000    15.260000    24.260000     54.560000  \n",
       "wip                     774.500000  1039.000000  1252.500000  23122.000000  \n",
       "over_time              1440.000000  3960.000000  6960.000000  25920.000000  \n",
       "incentive                 0.000000     0.000000    50.000000   3600.000000  \n",
       "idle_time                 0.000000     0.000000     0.000000    300.000000  \n",
       "idle_men                  0.000000     0.000000     0.000000     45.000000  \n",
       "no_of_style_change        0.000000     0.000000     0.000000      2.000000  \n",
       "no_of_workers             9.000000    34.000000    57.000000     89.000000  \n",
       "actual_productivity       0.650307     0.773333     0.850253      1.120437  "
      ]
     },
     "execution_count": 10,
     "metadata": {},
     "output_type": "execute_result"
    }
   ],
   "source": [
    "df.describe().T"
   ]
  },
  {
   "cell_type": "markdown",
   "id": "f5dce05b",
   "metadata": {},
   "source": [
    "### Saquemos algunas graficas"
   ]
  },
  {
   "cell_type": "markdown",
   "id": "8286618f",
   "metadata": {},
   "source": [
    "Comparemos la productividad real y la productividad objetivo para ver el rendimiento de los empleados."
   ]
  },
  {
   "cell_type": "code",
   "execution_count": 11,
   "id": "1ba2f1cd",
   "metadata": {},
   "outputs": [
    {
     "data": {
      "image/png": "[encoded data removed]",
      "text/plain": [
       "<Figure size 1080x360 with 1 Axes>"
      ]
     },
     "metadata": {
      "needs_background": "light"
     },
     "output_type": "display_data"
    }
   ],
   "source": [
    "import seaborn as sns\n",
    "import matplotlib.pyplot as plt\n",
    "plt.figure(figsize = (15,5))\n",
    "ax=sns.lineplot(y='targeted_productivity',x='date' ,color = \"red\", data =df,legend='brief')\n",
    "ax=sns.lineplot(y= 'actual_productivity',x='date',data=df, color=\"green\", legend = 'brief')\n",
    "ax.set(ylabel = 'Productivity')\n",
    "plt.show()"
   ]
  },
  {
   "cell_type": "markdown",
   "id": "1d10e0c0",
   "metadata": {},
   "source": [
    "Ahora analicemos si el día concreto de la semana o el equipo o el departamento tiene algún efecto significativo en la productividad."
   ]
  },
  {
   "cell_type": "code",
   "execution_count": 12,
   "id": "adf21106",
   "metadata": {},
   "outputs": [
    {
     "name": "stdout",
     "output_type": "stream",
     "text": [
      "Productividad en Thursday :  0.7226408815326634\n",
      "Productividad en Saturday :  0.7519288593743317\n",
      "Productividad en Sunday :  0.7286041288078818\n",
      "Productividad en Monday :  0.7354884994170856\n",
      "Productividad en Tuesday :  0.742700917676617\n",
      "Productividad en Wednesday :  0.7304619085144229\n"
     ]
    },
    {
     "data": {
      "image/png": "[encoded data removed]",
      "text/plain": [
       "<Figure size 432x288 with 1 Axes>"
      ]
     },
     "metadata": {
      "needs_background": "light"
     },
     "output_type": "display_data"
    }
   ],
   "source": [
    "l = []\n",
    "l1=[]\n",
    "column_name = \"day\"\n",
    "for i in list(df[column_name].unique()):\n",
    "    print( f\"Productividad en {i} : \",df[df[column_name] == i][\"actual_productivity\"].mean())\n",
    "    l.append(df[df[column_name] == i][\"actual_productivity\"].mean())\n",
    "    l1.append(i)\n",
    "    dictionary = {\"data\":l,\"keys\":l1}\n",
    "    sns.barplot( x = \"keys\" , y = \"data\", data = dictionary)\n",
    "# plt.savefig('days.png')"
   ]
  },
  {
   "cell_type": "markdown",
   "id": "9f7a6b8d",
   "metadata": {},
   "source": [
    "Como podemos ver arriba, la productividad no depende del equipo, la categoría, el trimestre o el día."
   ]
  },
  {
   "cell_type": "markdown",
   "id": "6da855f4",
   "metadata": {},
   "source": [
    "Vamos a trazar la matriz de correlación para ver la cantidad de correlación -"
   ]
  },
  {
   "cell_type": "code",
   "execution_count": 13,
   "id": "2a0bbd34",
   "metadata": {},
   "outputs": [
    {
     "data": {
      "image/png": "[encoded data removed]",
      "text/plain": [
       "<Figure size 1080x1080 with 2 Axes>"
      ]
     },
     "metadata": {
      "needs_background": "light"
     },
     "output_type": "display_data"
    }
   ],
   "source": [
    "corrMatrix = df.corr()\n",
    "fig, ax = plt.subplots(figsize=(15,15)) # Sample figsize in inches\n",
    "sns.heatmap(corrMatrix, annot=True, linewidths=.5, ax=ax)\n",
    "plt.show()"
   ]
  },
  {
   "cell_type": "markdown",
   "id": "e1c5cc0e",
   "metadata": {},
   "source": [
    "A partir de estos datos, es evidente que la productividad depende principalmente del objetivo de productividad, ya que el hecho de tener un objetivo motivará e impulsará a los empleados."
   ]
  },
  {
   "cell_type": "markdown",
   "id": "9687114f",
   "metadata": {},
   "source": [
    "## Preparemos los datos finales"
   ]
  },
  {
   "cell_type": "markdown",
   "id": "9369f1ab",
   "metadata": {
    "papermill": {
     "duration": 0.020621,
     "end_time": "2021-05-08T09:19:41.493661",
     "exception": false,
     "start_time": "2021-05-08T09:19:41.473040",
     "status": "completed"
    },
    "tags": []
   },
   "source": [
    "Hagamos una limpieza y un preprocesamiento de los datos antes de pasar a la predicción"
   ]
  },
  {
   "cell_type": "code",
   "execution_count": 14,
   "id": "7623a387",
   "metadata": {
    "execution": {
     "iopub.execute_input": "2021-05-08T09:19:41.549677Z",
     "iopub.status.busy": "2021-05-08T09:19:41.544603Z",
     "iopub.status.idle": "2021-05-08T09:19:41.559362Z",
     "shell.execute_reply": "2021-05-08T09:19:41.559768Z"
    },
    "papermill": {
     "duration": 0.046223,
     "end_time": "2021-05-08T09:19:41.559924",
     "exception": false,
     "start_time": "2021-05-08T09:19:41.513701",
     "status": "completed"
    },
    "tags": []
   },
   "outputs": [],
   "source": [
    "df['date'] = pd.to_datetime(df['date'])"
   ]
  },
  {
   "cell_type": "code",
   "execution_count": 15,
   "id": "9f23033d",
   "metadata": {},
   "outputs": [
    {
     "data": {
      "text/plain": [
       "0      2015-01-01\n",
       "1      2015-01-01\n",
       "2      2015-01-01\n",
       "3      2015-01-01\n",
       "4      2015-01-01\n",
       "          ...    \n",
       "1192   2015-03-11\n",
       "1193   2015-03-11\n",
       "1194   2015-03-11\n",
       "1195   2015-03-11\n",
       "1196   2015-03-11\n",
       "Name: date, Length: 1197, dtype: datetime64[ns]"
      ]
     },
     "execution_count": 15,
     "metadata": {},
     "output_type": "execute_result"
    }
   ],
   "source": [
    "df.date"
   ]
  },
  {
   "cell_type": "markdown",
   "id": "5735a73e",
   "metadata": {},
   "source": [
    "Así que los datos que tenemos son de 3 meses. \n",
    "Optamos por dejar el dia ya que como son pocos meses es suficiente en lugar de la fecha completa."
   ]
  },
  {
   "cell_type": "code",
   "execution_count": 16,
   "id": "7b814f7d",
   "metadata": {},
   "outputs": [],
   "source": [
    "df['Dia']=df['date'].dt.day\n",
    "df.drop(['date'],axis=1, inplace=True)"
   ]
  },
  {
   "cell_type": "markdown",
   "id": "c05be1d3",
   "metadata": {},
   "source": [
    "Optamos por llenar los wip faltantes por la media de la misma"
   ]
  },
  {
   "cell_type": "code",
   "execution_count": 17,
   "id": "4abe54db",
   "metadata": {
    "execution": {
     "iopub.execute_input": "2021-05-08T09:19:41.659832Z",
     "iopub.status.busy": "2021-05-08T09:19:41.659120Z",
     "iopub.status.idle": "2021-05-08T09:19:41.663220Z",
     "shell.execute_reply": "2021-05-08T09:19:41.662659Z"
    },
    "papermill": {
     "duration": 0.030397,
     "end_time": "2021-05-08T09:19:41.663383",
     "exception": false,
     "start_time": "2021-05-08T09:19:41.632986",
     "status": "completed"
    },
    "tags": []
   },
   "outputs": [],
   "source": [
    "df['wip'].fillna(int(df['wip'].mean()), inplace=True)"
   ]
  },
  {
   "cell_type": "code",
   "execution_count": 18,
   "id": "8f7f2a72",
   "metadata": {
    "execution": {
     "iopub.execute_input": "2021-05-08T09:19:41.716514Z",
     "iopub.status.busy": "2021-05-08T09:19:41.712456Z",
     "iopub.status.idle": "2021-05-08T09:19:41.723089Z",
     "shell.execute_reply": "2021-05-08T09:19:41.722646Z"
    },
    "papermill": {
     "duration": 0.037443,
     "end_time": "2021-05-08T09:19:41.723211",
     "exception": false,
     "start_time": "2021-05-08T09:19:41.685768",
     "status": "completed"
    },
    "tags": []
   },
   "outputs": [
    {
     "data": {
      "text/plain": [
       "quarter                  0\n",
       "department               0\n",
       "day                      0\n",
       "team                     0\n",
       "targeted_productivity    0\n",
       "smv                      0\n",
       "wip                      0\n",
       "over_time                0\n",
       "incentive                0\n",
       "idle_time                0\n",
       "idle_men                 0\n",
       "no_of_style_change       0\n",
       "no_of_workers            0\n",
       "actual_productivity      0\n",
       "Dia                      0\n",
       "dtype: int64"
      ]
     },
     "execution_count": 18,
     "metadata": {},
     "output_type": "execute_result"
    }
   ],
   "source": [
    "df.isnull().sum()"
   ]
  },
  {
   "cell_type": "markdown",
   "id": "438f50aa",
   "metadata": {},
   "source": [
    "Ahora podemos ver que no tenemos datos faltantes"
   ]
  },
  {
   "cell_type": "markdown",
   "id": "f210c303",
   "metadata": {},
   "source": [
    "### Encode"
   ]
  },
  {
   "cell_type": "markdown",
   "id": "a3d93f22",
   "metadata": {},
   "source": [
    "En los datos, puedes ver algunas columnas no numéricas. Así que vamos a codificarlas, ya que la mayoría de los algoritmos de aprendizaje automático sólo funcionan con datos numéricos."
   ]
  },
  {
   "cell_type": "markdown",
   "id": "94e0315e",
   "metadata": {},
   "source": [
    "Let’s encode the data with MultiColumnLabelEncoder"
   ]
  },
  {
   "cell_type": "code",
   "execution_count": 57,
   "id": "e67f8858",
   "metadata": {},
   "outputs": [],
   "source": [
    "#!pip install MultiColumnLabelEncoder"
   ]
  },
  {
   "cell_type": "code",
   "execution_count": 58,
   "id": "f155e1f3",
   "metadata": {},
   "outputs": [],
   "source": [
    "import MultiColumnLabelEncoder"
   ]
  },
  {
   "cell_type": "code",
   "execution_count": 59,
   "id": "e6950741",
   "metadata": {},
   "outputs": [],
   "source": [
    "Mcle = MultiColumnLabelEncoder.MultiColumnLabelEncoder()\n",
    "df = Mcle.fit_transform(df)"
   ]
  },
  {
   "cell_type": "code",
   "execution_count": null,
   "id": "634e2478",
   "metadata": {},
   "outputs": [],
   "source": []
  },
  {
   "cell_type": "code",
   "execution_count": null,
   "id": "1c9fc94e",
   "metadata": {},
   "outputs": [],
   "source": []
  },
  {
   "cell_type": "code",
   "execution_count": null,
   "id": "74e67a83",
   "metadata": {},
   "outputs": [],
   "source": []
  },
  {
   "cell_type": "code",
   "execution_count": null,
   "id": "bbe1a656",
   "metadata": {},
   "outputs": [],
   "source": []
  },
  {
   "cell_type": "code",
   "execution_count": null,
   "id": "565cff56",
   "metadata": {},
   "outputs": [],
   "source": []
  },
  {
   "cell_type": "code",
   "execution_count": 74,
   "id": "0c0dc691",
   "metadata": {},
   "outputs": [],
   "source": [
    "from sklearn.preprocessing import StandardScaler\n",
    "from sklearn.preprocessing import MinMaxScaler\n",
    "\n",
    "#scaler = StandardScaler()\n",
    "scaler = MinMaxScaler()\n",
    "\n",
    "\n",
    "# standarizing data\n",
    "scaled_data = scaler.fit_transform(df)\n",
    "\n",
    "# creating dataframe with standarized features\n",
    "scaled_df = pd.DataFrame(scaled_data, index=df.index, columns=df.columns)\n"
   ]
  },
  {
   "cell_type": "code",
   "execution_count": 75,
   "id": "79f787bc",
   "metadata": {},
   "outputs": [
    {
     "data": {
      "text/html": [
       "<div>\n",
       "<style scoped>\n",
       "    .dataframe tbody tr th:only-of-type {\n",
       "        vertical-align: middle;\n",
       "    }\n",
       "\n",
       "    .dataframe tbody tr th {\n",
       "        vertical-align: top;\n",
       "    }\n",
       "\n",
       "    .dataframe thead th {\n",
       "        text-align: right;\n",
       "    }\n",
       "</style>\n",
       "<table border=\"1\" class=\"dataframe\">\n",
       "  <thead>\n",
       "    <tr style=\"text-align: right;\">\n",
       "      <th></th>\n",
       "      <th>quarter</th>\n",
       "      <th>department</th>\n",
       "      <th>day</th>\n",
       "      <th>team</th>\n",
       "      <th>targeted_productivity</th>\n",
       "      <th>smv</th>\n",
       "      <th>wip</th>\n",
       "      <th>over_time</th>\n",
       "      <th>incentive</th>\n",
       "      <th>idle_time</th>\n",
       "      <th>idle_men</th>\n",
       "      <th>no_of_style_change</th>\n",
       "      <th>no_of_workers</th>\n",
       "      <th>actual_productivity</th>\n",
       "      <th>Dia</th>\n",
       "    </tr>\n",
       "  </thead>\n",
       "  <tbody>\n",
       "    <tr>\n",
       "      <th>0</th>\n",
       "      <td>0.00</td>\n",
       "      <td>0.0</td>\n",
       "      <td>0.0</td>\n",
       "      <td>0.636364</td>\n",
       "      <td>1.000000</td>\n",
       "      <td>0.450252</td>\n",
       "      <td>0.047631</td>\n",
       "      <td>0.273148</td>\n",
       "      <td>0.027222</td>\n",
       "      <td>0.0</td>\n",
       "      <td>0.0</td>\n",
       "      <td>0.0</td>\n",
       "      <td>0.655172</td>\n",
       "      <td>0.797332</td>\n",
       "      <td>0.000000</td>\n",
       "    </tr>\n",
       "    <tr>\n",
       "      <th>1</th>\n",
       "      <td>0.00</td>\n",
       "      <td>1.0</td>\n",
       "      <td>0.0</td>\n",
       "      <td>0.000000</td>\n",
       "      <td>0.931507</td>\n",
       "      <td>0.020132</td>\n",
       "      <td>0.051179</td>\n",
       "      <td>0.037037</td>\n",
       "      <td>0.000000</td>\n",
       "      <td>0.0</td>\n",
       "      <td>0.0</td>\n",
       "      <td>0.0</td>\n",
       "      <td>0.068966</td>\n",
       "      <td>0.736180</td>\n",
       "      <td>0.000000</td>\n",
       "    </tr>\n",
       "    <tr>\n",
       "      <th>2</th>\n",
       "      <td>0.00</td>\n",
       "      <td>0.0</td>\n",
       "      <td>0.0</td>\n",
       "      <td>0.909091</td>\n",
       "      <td>1.000000</td>\n",
       "      <td>0.164731</td>\n",
       "      <td>0.041575</td>\n",
       "      <td>0.141204</td>\n",
       "      <td>0.013889</td>\n",
       "      <td>0.0</td>\n",
       "      <td>0.0</td>\n",
       "      <td>0.0</td>\n",
       "      <td>0.327586</td>\n",
       "      <td>0.639274</td>\n",
       "      <td>0.000000</td>\n",
       "    </tr>\n",
       "    <tr>\n",
       "      <th>3</th>\n",
       "      <td>0.00</td>\n",
       "      <td>0.0</td>\n",
       "      <td>0.0</td>\n",
       "      <td>1.000000</td>\n",
       "      <td>1.000000</td>\n",
       "      <td>0.164731</td>\n",
       "      <td>0.041575</td>\n",
       "      <td>0.141204</td>\n",
       "      <td>0.013889</td>\n",
       "      <td>0.0</td>\n",
       "      <td>0.0</td>\n",
       "      <td>0.0</td>\n",
       "      <td>0.327586</td>\n",
       "      <td>0.639274</td>\n",
       "      <td>0.000000</td>\n",
       "    </tr>\n",
       "    <tr>\n",
       "      <th>4</th>\n",
       "      <td>0.00</td>\n",
       "      <td>0.0</td>\n",
       "      <td>0.0</td>\n",
       "      <td>0.454545</td>\n",
       "      <td>1.000000</td>\n",
       "      <td>0.445219</td>\n",
       "      <td>0.050314</td>\n",
       "      <td>0.074074</td>\n",
       "      <td>0.013889</td>\n",
       "      <td>0.0</td>\n",
       "      <td>0.0</td>\n",
       "      <td>0.0</td>\n",
       "      <td>0.620690</td>\n",
       "      <td>0.639062</td>\n",
       "      <td>0.000000</td>\n",
       "    </tr>\n",
       "    <tr>\n",
       "      <th>...</th>\n",
       "      <td>...</td>\n",
       "      <td>...</td>\n",
       "      <td>...</td>\n",
       "      <td>...</td>\n",
       "      <td>...</td>\n",
       "      <td>...</td>\n",
       "      <td>...</td>\n",
       "      <td>...</td>\n",
       "      <td>...</td>\n",
       "      <td>...</td>\n",
       "      <td>...</td>\n",
       "      <td>...</td>\n",
       "      <td>...</td>\n",
       "      <td>...</td>\n",
       "      <td>...</td>\n",
       "    </tr>\n",
       "    <tr>\n",
       "      <th>1192</th>\n",
       "      <td>0.25</td>\n",
       "      <td>1.0</td>\n",
       "      <td>1.0</td>\n",
       "      <td>0.818182</td>\n",
       "      <td>0.931507</td>\n",
       "      <td>0.000000</td>\n",
       "      <td>0.051179</td>\n",
       "      <td>0.037037</td>\n",
       "      <td>0.000000</td>\n",
       "      <td>0.0</td>\n",
       "      <td>0.0</td>\n",
       "      <td>0.0</td>\n",
       "      <td>0.068966</td>\n",
       "      <td>0.445036</td>\n",
       "      <td>0.333333</td>\n",
       "    </tr>\n",
       "    <tr>\n",
       "      <th>1193</th>\n",
       "      <td>0.25</td>\n",
       "      <td>1.0</td>\n",
       "      <td>1.0</td>\n",
       "      <td>0.636364</td>\n",
       "      <td>0.863014</td>\n",
       "      <td>0.019357</td>\n",
       "      <td>0.051179</td>\n",
       "      <td>0.037037</td>\n",
       "      <td>0.000000</td>\n",
       "      <td>0.0</td>\n",
       "      <td>0.0</td>\n",
       "      <td>0.0</td>\n",
       "      <td>0.068966</td>\n",
       "      <td>0.441982</td>\n",
       "      <td>0.333333</td>\n",
       "    </tr>\n",
       "    <tr>\n",
       "      <th>1194</th>\n",
       "      <td>0.25</td>\n",
       "      <td>1.0</td>\n",
       "      <td>1.0</td>\n",
       "      <td>0.545455</td>\n",
       "      <td>0.794521</td>\n",
       "      <td>0.019357</td>\n",
       "      <td>0.051179</td>\n",
       "      <td>0.037037</td>\n",
       "      <td>0.000000</td>\n",
       "      <td>0.0</td>\n",
       "      <td>0.0</td>\n",
       "      <td>0.0</td>\n",
       "      <td>0.068966</td>\n",
       "      <td>0.441982</td>\n",
       "      <td>0.333333</td>\n",
       "    </tr>\n",
       "    <tr>\n",
       "      <th>1195</th>\n",
       "      <td>0.25</td>\n",
       "      <td>1.0</td>\n",
       "      <td>1.0</td>\n",
       "      <td>0.727273</td>\n",
       "      <td>0.931507</td>\n",
       "      <td>0.000000</td>\n",
       "      <td>0.051179</td>\n",
       "      <td>0.069444</td>\n",
       "      <td>0.000000</td>\n",
       "      <td>0.0</td>\n",
       "      <td>0.0</td>\n",
       "      <td>0.0</td>\n",
       "      <td>0.149425</td>\n",
       "      <td>0.306951</td>\n",
       "      <td>0.333333</td>\n",
       "    </tr>\n",
       "    <tr>\n",
       "      <th>1196</th>\n",
       "      <td>0.25</td>\n",
       "      <td>1.0</td>\n",
       "      <td>1.0</td>\n",
       "      <td>0.454545</td>\n",
       "      <td>0.863014</td>\n",
       "      <td>0.000000</td>\n",
       "      <td>0.051179</td>\n",
       "      <td>0.027778</td>\n",
       "      <td>0.000000</td>\n",
       "      <td>0.0</td>\n",
       "      <td>0.0</td>\n",
       "      <td>0.0</td>\n",
       "      <td>0.045977</td>\n",
       "      <td>0.181584</td>\n",
       "      <td>0.333333</td>\n",
       "    </tr>\n",
       "  </tbody>\n",
       "</table>\n",
       "<p>1197 rows × 15 columns</p>\n",
       "</div>"
      ],
      "text/plain": [
       "      quarter  department  day      team  targeted_productivity       smv  \\\n",
       "0        0.00         0.0  0.0  0.636364               1.000000  0.450252   \n",
       "1        0.00         1.0  0.0  0.000000               0.931507  0.020132   \n",
       "2        0.00         0.0  0.0  0.909091               1.000000  0.164731   \n",
       "3        0.00         0.0  0.0  1.000000               1.000000  0.164731   \n",
       "4        0.00         0.0  0.0  0.454545               1.000000  0.445219   \n",
       "...       ...         ...  ...       ...                    ...       ...   \n",
       "1192     0.25         1.0  1.0  0.818182               0.931507  0.000000   \n",
       "1193     0.25         1.0  1.0  0.636364               0.863014  0.019357   \n",
       "1194     0.25         1.0  1.0  0.545455               0.794521  0.019357   \n",
       "1195     0.25         1.0  1.0  0.727273               0.931507  0.000000   \n",
       "1196     0.25         1.0  1.0  0.454545               0.863014  0.000000   \n",
       "\n",
       "           wip  over_time  incentive  idle_time  idle_men  no_of_style_change  \\\n",
       "0     0.047631   0.273148   0.027222        0.0       0.0                 0.0   \n",
       "1     0.051179   0.037037   0.000000        0.0       0.0                 0.0   \n",
       "2     0.041575   0.141204   0.013889        0.0       0.0                 0.0   \n",
       "3     0.041575   0.141204   0.013889        0.0       0.0                 0.0   \n",
       "4     0.050314   0.074074   0.013889        0.0       0.0                 0.0   \n",
       "...        ...        ...        ...        ...       ...                 ...   \n",
       "1192  0.051179   0.037037   0.000000        0.0       0.0                 0.0   \n",
       "1193  0.051179   0.037037   0.000000        0.0       0.0                 0.0   \n",
       "1194  0.051179   0.037037   0.000000        0.0       0.0                 0.0   \n",
       "1195  0.051179   0.069444   0.000000        0.0       0.0                 0.0   \n",
       "1196  0.051179   0.027778   0.000000        0.0       0.0                 0.0   \n",
       "\n",
       "      no_of_workers  actual_productivity       Dia  \n",
       "0          0.655172             0.797332  0.000000  \n",
       "1          0.068966             0.736180  0.000000  \n",
       "2          0.327586             0.639274  0.000000  \n",
       "3          0.327586             0.639274  0.000000  \n",
       "4          0.620690             0.639062  0.000000  \n",
       "...             ...                  ...       ...  \n",
       "1192       0.068966             0.445036  0.333333  \n",
       "1193       0.068966             0.441982  0.333333  \n",
       "1194       0.068966             0.441982  0.333333  \n",
       "1195       0.149425             0.306951  0.333333  \n",
       "1196       0.045977             0.181584  0.333333  \n",
       "\n",
       "[1197 rows x 15 columns]"
      ]
     },
     "execution_count": 75,
     "metadata": {},
     "output_type": "execute_result"
    }
   ],
   "source": [
    "scaled_df"
   ]
  },
  {
   "cell_type": "code",
   "execution_count": 76,
   "id": "f694daec",
   "metadata": {},
   "outputs": [],
   "source": [
    "# x = df.drop(['actual_productivity'],axis=1)\n",
    "# y = df['actual_productivity']\n",
    "\n",
    "x = scaled_df.drop(['actual_productivity'],axis=1)\n",
    "y = scaled_df['actual_productivity']"
   ]
  },
  {
   "cell_type": "code",
   "execution_count": null,
   "id": "e485ade4",
   "metadata": {},
   "outputs": [],
   "source": []
  },
  {
   "cell_type": "code",
   "execution_count": null,
   "id": "f47a907b",
   "metadata": {},
   "outputs": [],
   "source": []
  },
  {
   "cell_type": "code",
   "execution_count": null,
   "id": "7de59a15",
   "metadata": {},
   "outputs": [],
   "source": []
  },
  {
   "cell_type": "code",
   "execution_count": null,
   "id": "9226ddde",
   "metadata": {},
   "outputs": [],
   "source": []
  },
  {
   "cell_type": "code",
   "execution_count": null,
   "id": "b7b4fa9c",
   "metadata": {},
   "outputs": [],
   "source": []
  },
  {
   "cell_type": "markdown",
   "id": "2d599b92",
   "metadata": {},
   "source": [
    "## Prediciendo la productividad"
   ]
  },
  {
   "cell_type": "markdown",
   "id": "33ed1b51",
   "metadata": {},
   "source": [
    "Antes de tratar de predecir, vamos a preparar los datos de entrenamiento y de prueba"
   ]
  },
  {
   "cell_type": "code",
   "execution_count": 77,
   "id": "ce4e7a92",
   "metadata": {},
   "outputs": [],
   "source": [
    "from sklearn.model_selection import train_test_split\n",
    "\n",
    "x_train, x_test, y_train, y_test = train_test_split(x, y,train_size=0.8,random_state=0)"
   ]
  },
  {
   "cell_type": "markdown",
   "id": "07960bb6",
   "metadata": {},
   "source": [
    "Los algoritmos que implementaremos para ver cual se adapta mejor a los datos son los siguientes:"
   ]
  },
  {
   "cell_type": "code",
   "execution_count": 78,
   "id": "44a67d90",
   "metadata": {},
   "outputs": [],
   "source": [
    "from sklearn.linear_model import LinearRegression\n",
    "from sklearn.ensemble import RandomForestRegressor\n",
    "import xgboost as xgb\n",
    "from sklearn.svm import SVR\n",
    "from sklearn.linear_model import Lasso\n",
    "from sklearn.linear_model import Ridge\n",
    "from sklearn.tree import DecisionTreeRegressor"
   ]
  },
  {
   "cell_type": "markdown",
   "id": "1390b63a",
   "metadata": {},
   "source": [
    "Funcion para obtener algunas metricas de los algoritmos con nuestros datos."
   ]
  },
  {
   "cell_type": "code",
   "execution_count": 79,
   "id": "c39a48f6",
   "metadata": {},
   "outputs": [],
   "source": [
    "def impresionResultados(y_test, pred6):\n",
    "    print(\"test_MSE:\",mean_squared_error(y_test, pred6))\n",
    "    print(\"test_MAE:\",mean_absolute_error(y_test, pred6))\n",
    "    print(\"R2_score:{}\".format(r2_score(y_test, pred6)))"
   ]
  },
  {
   "cell_type": "markdown",
   "id": "018b8b1f",
   "metadata": {},
   "source": [
    "- LinearRegression"
   ]
  },
  {
   "cell_type": "code",
   "execution_count": 80,
   "id": "9ed8e021",
   "metadata": {},
   "outputs": [
    {
     "name": "stdout",
     "output_type": "stream",
     "text": [
      "test_MSE: 0.026136415488697242\n",
      "test_MAE: 0.1172092199883039\n",
      "R2_score:0.30491098975811126\n"
     ]
    }
   ],
   "source": [
    "model_lr=LinearRegression()\n",
    "\n",
    "model_lr.fit(x_train,y_train)\n",
    "pred_test=model_lr.predict(x_test)\n",
    "impresionResultados(y_test, pred_test)"
   ]
  },
  {
   "cell_type": "markdown",
   "id": "a510c151",
   "metadata": {},
   "source": [
    "- Random Forest Regressor"
   ]
  },
  {
   "cell_type": "code",
   "execution_count": 81,
   "id": "93f8e2f1",
   "metadata": {},
   "outputs": [
    {
     "name": "stdout",
     "output_type": "stream",
     "text": [
      "test_MSE: 0.019013245144796975\n",
      "test_MAE: 0.09581423789001615\n",
      "R2_score:0.49434926319951666\n"
     ]
    }
   ],
   "source": [
    "model_rfe = RandomForestRegressor(n_estimators=200,max_depth=5)\n",
    "\n",
    "model_rfe.fit(x_train, y_train)\n",
    "pred = model_rfe.predict(x_test)\n",
    "impresionResultados(y_test, pred)"
   ]
  },
  {
   "cell_type": "markdown",
   "id": "b50106a8",
   "metadata": {},
   "source": [
    "- XGBoost"
   ]
  },
  {
   "cell_type": "code",
   "execution_count": 82,
   "id": "2e169028",
   "metadata": {},
   "outputs": [
    {
     "name": "stdout",
     "output_type": "stream",
     "text": [
      "test_MSE: 0.01782910186541901\n",
      "test_MAE: 0.08764460148833063\n",
      "R2_score:0.5258411477849665\n"
     ]
    }
   ],
   "source": [
    "model_xgb = xgb.XGBRegressor(n_estimators=200, max_depth=5, learning_rate=0.1)\n",
    "\n",
    "model_xgb.fit(x_train, y_train)\n",
    "pred3=model_xgb.predict(x_test)\n",
    "impresionResultados(y_test, pred3)"
   ]
  },
  {
   "cell_type": "markdown",
   "id": "88e2211f",
   "metadata": {},
   "source": [
    "- SVR"
   ]
  },
  {
   "cell_type": "code",
   "execution_count": 83,
   "id": "88ec0a21",
   "metadata": {},
   "outputs": [
    {
     "name": "stdout",
     "output_type": "stream",
     "text": [
      "test_MSE: 0.023564455225479994\n",
      "test_MAE: 0.09701267045095839\n",
      "R2_score:0.37331139127890356\n"
     ]
    }
   ],
   "source": [
    "model_svr = SVR(kernel='rbf', C=10, epsilon=0.00001) # set kernel and hyperparameters\n",
    "\n",
    "svr = model_svr.fit(x_train, y_train)\n",
    "pred4 = model_svr.predict(x_test)\n",
    "impresionResultados(y_test, pred4)"
   ]
  },
  {
   "cell_type": "markdown",
   "id": "aa7ba36a",
   "metadata": {},
   "source": [
    "- Lasso"
   ]
  },
  {
   "cell_type": "code",
   "execution_count": 84,
   "id": "77635f72",
   "metadata": {},
   "outputs": [
    {
     "name": "stdout",
     "output_type": "stream",
     "text": [
      "test_MSE: 0.03768130820788794\n",
      "test_MAE: 0.14821842667836957\n",
      "R2_score:-0.0021214744679551867\n"
     ]
    }
   ],
   "source": [
    "las_reg = Lasso()\n",
    "\n",
    "las_reg.fit(x_train, y_train)\n",
    "pred5 = las_reg.predict(x_test)\n",
    "impresionResultados(y_test, pred5)"
   ]
  },
  {
   "cell_type": "markdown",
   "id": "28242411",
   "metadata": {},
   "source": [
    "- Ridge"
   ]
  },
  {
   "cell_type": "code",
   "execution_count": 85,
   "id": "6847c480",
   "metadata": {},
   "outputs": [],
   "source": [
    "# rid_reg = Ridge()\n",
    "\n",
    "# rid_reg.fit(x_train, y_train)\n",
    "# pred6 = rid_reg.predict(x_test)\n",
    "# impresionResultados(y_test, pred6)"
   ]
  },
  {
   "cell_type": "markdown",
   "id": "d677bdc2",
   "metadata": {},
   "source": [
    "- Decision Tree Regressor"
   ]
  },
  {
   "cell_type": "code",
   "execution_count": 86,
   "id": "694dd5ba",
   "metadata": {},
   "outputs": [
    {
     "name": "stdout",
     "output_type": "stream",
     "text": [
      "test_MSE: 0.03431920316723292\n",
      "test_MAE: 0.11108943514935017\n",
      "R2_score:0.0872925565436341\n"
     ]
    }
   ],
   "source": [
    "dt_regressor = DecisionTreeRegressor(random_state = 0)\n",
    "\n",
    "dt_regressor.fit(x_train,y_train)\n",
    "pred7 = dt_regressor.predict(x_test)\n",
    "impresionResultados(y_test, pred7)\n"
   ]
  },
  {
   "cell_type": "code",
   "execution_count": null,
   "id": "aebfc9b3",
   "metadata": {},
   "outputs": [],
   "source": []
  },
  {
   "cell_type": "code",
   "execution_count": null,
   "id": "3a79be59",
   "metadata": {},
   "outputs": [],
   "source": []
  },
  {
   "cell_type": "code",
   "execution_count": null,
   "id": "995abb5a",
   "metadata": {},
   "outputs": [],
   "source": []
  }
 ],
 "metadata": {
  "kernelspec": {
   "display_name": "Python 3 (ipykernel)",
   "language": "python",
   "name": "python3"
  },
  "language_info": {
   "codemirror_mode": {
    "name": "ipython",
    "version": 3
   },
   "file_extension": ".py",
   "mimetype": "text/x-python",
   "name": "python",
   "nbconvert_exporter": "python",
   "pygments_lexer": "ipython3",
   "version": "3.9.12"
  },
  "papermill": {
   "default_parameters": {},
   "duration": 47.259788,
   "end_time": "2021-05-08T09:20:17.780615",
   "environment_variables": {},
   "exception": null,
   "input_path": "__notebook__.ipynb",
   "output_path": "__notebook__.ipynb",
   "parameters": {},
   "start_time": "2021-05-08T09:19:30.520827",
   "version": "2.3.2"
  }
 },
 "nbformat": 4,
 "nbformat_minor": 5
}
